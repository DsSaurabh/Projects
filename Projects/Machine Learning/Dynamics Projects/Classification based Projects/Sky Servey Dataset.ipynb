{
 "cells": [
  {
   "cell_type": "code",
   "execution_count": 1,
   "metadata": {},
   "outputs": [],
   "source": [
    "#Importing all the necessary libraries\n",
    "import pandas as pd\n",
    "import numpy as np\n",
    "import seaborn as sns\n",
    "import matplotlib.pyplot as plt\n",
    "\n",
    "#Importing the warnings\n",
    "import warnings\n",
    "warnings.filterwarnings('ignore')"
   ]
  },
  {
   "cell_type": "code",
   "execution_count": 2,
   "metadata": {},
   "outputs": [
    {
     "data": {
      "text/html": [
       "<div>\n",
       "<style scoped>\n",
       "    .dataframe tbody tr th:only-of-type {\n",
       "        vertical-align: middle;\n",
       "    }\n",
       "\n",
       "    .dataframe tbody tr th {\n",
       "        vertical-align: top;\n",
       "    }\n",
       "\n",
       "    .dataframe thead th {\n",
       "        text-align: right;\n",
       "    }\n",
       "</style>\n",
       "<table border=\"1\" class=\"dataframe\">\n",
       "  <thead>\n",
       "    <tr style=\"text-align: right;\">\n",
       "      <th></th>\n",
       "      <th>objid</th>\n",
       "      <th>ra</th>\n",
       "      <th>dec</th>\n",
       "      <th>u</th>\n",
       "      <th>g</th>\n",
       "      <th>r</th>\n",
       "      <th>i</th>\n",
       "      <th>z</th>\n",
       "      <th>run</th>\n",
       "      <th>rerun</th>\n",
       "      <th>camcol</th>\n",
       "      <th>field</th>\n",
       "      <th>specobjid</th>\n",
       "      <th>class</th>\n",
       "      <th>redshift</th>\n",
       "      <th>plate</th>\n",
       "      <th>mjd</th>\n",
       "      <th>fiberid</th>\n",
       "    </tr>\n",
       "  </thead>\n",
       "  <tbody>\n",
       "    <tr>\n",
       "      <th>0</th>\n",
       "      <td>1.237650e+18</td>\n",
       "      <td>183.531326</td>\n",
       "      <td>0.089693</td>\n",
       "      <td>19.47406</td>\n",
       "      <td>17.04240</td>\n",
       "      <td>15.94699</td>\n",
       "      <td>15.50342</td>\n",
       "      <td>15.22531</td>\n",
       "      <td>752</td>\n",
       "      <td>301</td>\n",
       "      <td>4</td>\n",
       "      <td>267</td>\n",
       "      <td>3.722360e+18</td>\n",
       "      <td>STAR</td>\n",
       "      <td>-0.000009</td>\n",
       "      <td>3306</td>\n",
       "      <td>54922</td>\n",
       "      <td>491</td>\n",
       "    </tr>\n",
       "    <tr>\n",
       "      <th>1</th>\n",
       "      <td>1.237650e+18</td>\n",
       "      <td>183.598371</td>\n",
       "      <td>0.135285</td>\n",
       "      <td>18.66280</td>\n",
       "      <td>17.21449</td>\n",
       "      <td>16.67637</td>\n",
       "      <td>16.48922</td>\n",
       "      <td>16.39150</td>\n",
       "      <td>752</td>\n",
       "      <td>301</td>\n",
       "      <td>4</td>\n",
       "      <td>267</td>\n",
       "      <td>3.638140e+17</td>\n",
       "      <td>STAR</td>\n",
       "      <td>-0.000055</td>\n",
       "      <td>323</td>\n",
       "      <td>51615</td>\n",
       "      <td>541</td>\n",
       "    </tr>\n",
       "    <tr>\n",
       "      <th>2</th>\n",
       "      <td>1.237650e+18</td>\n",
       "      <td>183.680207</td>\n",
       "      <td>0.126185</td>\n",
       "      <td>19.38298</td>\n",
       "      <td>18.19169</td>\n",
       "      <td>17.47428</td>\n",
       "      <td>17.08732</td>\n",
       "      <td>16.80125</td>\n",
       "      <td>752</td>\n",
       "      <td>301</td>\n",
       "      <td>4</td>\n",
       "      <td>268</td>\n",
       "      <td>3.232740e+17</td>\n",
       "      <td>GALAXY</td>\n",
       "      <td>0.123111</td>\n",
       "      <td>287</td>\n",
       "      <td>52023</td>\n",
       "      <td>513</td>\n",
       "    </tr>\n",
       "    <tr>\n",
       "      <th>3</th>\n",
       "      <td>1.237650e+18</td>\n",
       "      <td>183.870529</td>\n",
       "      <td>0.049911</td>\n",
       "      <td>17.76536</td>\n",
       "      <td>16.60272</td>\n",
       "      <td>16.16116</td>\n",
       "      <td>15.98233</td>\n",
       "      <td>15.90438</td>\n",
       "      <td>752</td>\n",
       "      <td>301</td>\n",
       "      <td>4</td>\n",
       "      <td>269</td>\n",
       "      <td>3.722370e+18</td>\n",
       "      <td>STAR</td>\n",
       "      <td>-0.000111</td>\n",
       "      <td>3306</td>\n",
       "      <td>54922</td>\n",
       "      <td>510</td>\n",
       "    </tr>\n",
       "    <tr>\n",
       "      <th>4</th>\n",
       "      <td>1.237650e+18</td>\n",
       "      <td>183.883288</td>\n",
       "      <td>0.102557</td>\n",
       "      <td>17.55025</td>\n",
       "      <td>16.26342</td>\n",
       "      <td>16.43869</td>\n",
       "      <td>16.55492</td>\n",
       "      <td>16.61326</td>\n",
       "      <td>752</td>\n",
       "      <td>301</td>\n",
       "      <td>4</td>\n",
       "      <td>269</td>\n",
       "      <td>3.722370e+18</td>\n",
       "      <td>STAR</td>\n",
       "      <td>0.000590</td>\n",
       "      <td>3306</td>\n",
       "      <td>54922</td>\n",
       "      <td>512</td>\n",
       "    </tr>\n",
       "  </tbody>\n",
       "</table>\n",
       "</div>"
      ],
      "text/plain": [
       "          objid          ra       dec         u         g         r         i  \\\n",
       "0  1.237650e+18  183.531326  0.089693  19.47406  17.04240  15.94699  15.50342   \n",
       "1  1.237650e+18  183.598371  0.135285  18.66280  17.21449  16.67637  16.48922   \n",
       "2  1.237650e+18  183.680207  0.126185  19.38298  18.19169  17.47428  17.08732   \n",
       "3  1.237650e+18  183.870529  0.049911  17.76536  16.60272  16.16116  15.98233   \n",
       "4  1.237650e+18  183.883288  0.102557  17.55025  16.26342  16.43869  16.55492   \n",
       "\n",
       "          z  run  rerun  camcol  field     specobjid   class  redshift  plate  \\\n",
       "0  15.22531  752    301       4    267  3.722360e+18    STAR -0.000009   3306   \n",
       "1  16.39150  752    301       4    267  3.638140e+17    STAR -0.000055    323   \n",
       "2  16.80125  752    301       4    268  3.232740e+17  GALAXY  0.123111    287   \n",
       "3  15.90438  752    301       4    269  3.722370e+18    STAR -0.000111   3306   \n",
       "4  16.61326  752    301       4    269  3.722370e+18    STAR  0.000590   3306   \n",
       "\n",
       "     mjd  fiberid  \n",
       "0  54922      491  \n",
       "1  51615      541  \n",
       "2  52023      513  \n",
       "3  54922      510  \n",
       "4  54922      512  "
      ]
     },
     "execution_count": 2,
     "metadata": {},
     "output_type": "execute_result"
    }
   ],
   "source": [
    "#Loading the dataset\n",
    "df=pd.read_csv('Skyserver.csv')\n",
    "df.head()"
   ]
  },
  {
   "cell_type": "code",
   "execution_count": 3,
   "metadata": {},
   "outputs": [
    {
     "data": {
      "text/plain": [
       "(10000, 18)"
      ]
     },
     "execution_count": 3,
     "metadata": {},
     "output_type": "execute_result"
    }
   ],
   "source": [
    "#Checking the shape of dataset\n",
    "df.shape"
   ]
  },
  {
   "cell_type": "markdown",
   "metadata": {},
   "source": [
    "Observation:\n",
    "    \n",
    "    There are ten thousand rows and 18 columns present in our dataset."
   ]
  },
  {
   "cell_type": "code",
   "execution_count": 4,
   "metadata": {},
   "outputs": [
    {
     "data": {
      "text/plain": [
       "Index(['objid', 'ra', 'dec', 'u', 'g', 'r', 'i', 'z', 'run', 'rerun', 'camcol',\n",
       "       'field', 'specobjid', 'class', 'redshift', 'plate', 'mjd', 'fiberid'],\n",
       "      dtype='object')"
      ]
     },
     "execution_count": 4,
     "metadata": {},
     "output_type": "execute_result"
    }
   ],
   "source": [
    "#Checking the columns\n",
    "df.columns"
   ]
  },
  {
   "cell_type": "code",
   "execution_count": 5,
   "metadata": {},
   "outputs": [
    {
     "data": {
      "text/plain": [
       "objid        float64\n",
       "ra           float64\n",
       "dec          float64\n",
       "u            float64\n",
       "g            float64\n",
       "r            float64\n",
       "i            float64\n",
       "z            float64\n",
       "run            int64\n",
       "rerun          int64\n",
       "camcol         int64\n",
       "field          int64\n",
       "specobjid    float64\n",
       "class         object\n",
       "redshift     float64\n",
       "plate          int64\n",
       "mjd            int64\n",
       "fiberid        int64\n",
       "dtype: object"
      ]
     },
     "execution_count": 5,
     "metadata": {},
     "output_type": "execute_result"
    }
   ],
   "source": [
    "#Checking the datatype of columns\n",
    "\n",
    "df.dtypes"
   ]
  },
  {
   "cell_type": "markdown",
   "metadata": {},
   "source": [
    "Observation:\n",
    "    \n",
    "    1-class column is in object data types which is our target column.\n",
    "    \n",
    "    2-Rest of the columns are numeric data type i.e. int or float.+"
   ]
  },
  {
   "cell_type": "code",
   "execution_count": 6,
   "metadata": {},
   "outputs": [
    {
     "name": "stdout",
     "output_type": "stream",
     "text": [
      "<class 'pandas.core.frame.DataFrame'>\n",
      "RangeIndex: 10000 entries, 0 to 9999\n",
      "Data columns (total 18 columns):\n",
      "objid        10000 non-null float64\n",
      "ra           10000 non-null float64\n",
      "dec          10000 non-null float64\n",
      "u            10000 non-null float64\n",
      "g            10000 non-null float64\n",
      "r            10000 non-null float64\n",
      "i            10000 non-null float64\n",
      "z            10000 non-null float64\n",
      "run          10000 non-null int64\n",
      "rerun        10000 non-null int64\n",
      "camcol       10000 non-null int64\n",
      "field        10000 non-null int64\n",
      "specobjid    10000 non-null float64\n",
      "class        10000 non-null object\n",
      "redshift     10000 non-null float64\n",
      "plate        10000 non-null int64\n",
      "mjd          10000 non-null int64\n",
      "fiberid      10000 non-null int64\n",
      "dtypes: float64(10), int64(7), object(1)\n",
      "memory usage: 1.4+ MB\n"
     ]
    }
   ],
   "source": [
    "#Checking the information of the dataset.\n",
    "df.info()"
   ]
  },
  {
   "cell_type": "markdown",
   "metadata": {},
   "source": [
    "Observation:\n",
    "    \n",
    "    1-Categorical columns: class\n",
    "        \n",
    "    2-Numeric columns:\n",
    "        \n",
    "        a-Float data types : [objid, ra, dec, u, g, r, i, z, specobjid, redshift]\n",
    "            \n",
    "        b-Integer data types: [run, rerun, camcol, field, plate, mjd, fiberid]\n",
    "        \n",
    "     3-No missing value is present."
   ]
  },
  {
   "cell_type": "markdown",
   "metadata": {},
   "source": [
    "## To check the missing value"
   ]
  },
  {
   "cell_type": "code",
   "execution_count": 7,
   "metadata": {},
   "outputs": [
    {
     "data": {
      "text/plain": [
       "False"
      ]
     },
     "execution_count": 7,
     "metadata": {},
     "output_type": "execute_result"
    }
   ],
   "source": [
    "#Checking if any missing value is present\n",
    "df.isnull().values.any()"
   ]
  },
  {
   "cell_type": "markdown",
   "metadata": {},
   "source": [
    "It shows that no missing value is present in any rows."
   ]
  },
  {
   "cell_type": "code",
   "execution_count": 8,
   "metadata": {},
   "outputs": [
    {
     "data": {
      "text/plain": [
       "objid        False\n",
       "ra           False\n",
       "dec          False\n",
       "u            False\n",
       "g            False\n",
       "r            False\n",
       "i            False\n",
       "z            False\n",
       "run          False\n",
       "rerun        False\n",
       "camcol       False\n",
       "field        False\n",
       "specobjid    False\n",
       "class        False\n",
       "redshift     False\n",
       "plate        False\n",
       "mjd          False\n",
       "fiberid      False\n",
       "dtype: bool"
      ]
     },
     "execution_count": 8,
     "metadata": {},
     "output_type": "execute_result"
    }
   ],
   "source": [
    "#Now check for columns where missing values are present.\n",
    "df.isnull().any()"
   ]
  },
  {
   "cell_type": "markdown",
   "metadata": {},
   "source": [
    "False condition shows that there is no missing value is present in our dataset."
   ]
  },
  {
   "cell_type": "code",
   "execution_count": 9,
   "metadata": {},
   "outputs": [
    {
     "data": {
      "text/plain": [
       "objid        0\n",
       "ra           0\n",
       "dec          0\n",
       "u            0\n",
       "g            0\n",
       "r            0\n",
       "i            0\n",
       "z            0\n",
       "run          0\n",
       "rerun        0\n",
       "camcol       0\n",
       "field        0\n",
       "specobjid    0\n",
       "class        0\n",
       "redshift     0\n",
       "plate        0\n",
       "mjd          0\n",
       "fiberid      0\n",
       "dtype: int64"
      ]
     },
     "execution_count": 9,
     "metadata": {},
     "output_type": "execute_result"
    }
   ],
   "source": [
    "#Now checking the Number of missing value present\n",
    "df.isnull().sum()"
   ]
  },
  {
   "cell_type": "markdown",
   "metadata": {},
   "source": [
    "Although we know that no missing values is present in our dataset yet we see it by using sum() function. "
   ]
  },
  {
   "cell_type": "code",
   "execution_count": 10,
   "metadata": {},
   "outputs": [
    {
     "data": {
      "image/png": "[encoded data removed]",
      "text/plain": [
       "<Figure size 576x432 with 1 Axes>"
      ]
     },
     "metadata": {},
     "output_type": "display_data"
    }
   ],
   "source": [
    "#Seeing it via heatmap(visualization)\n",
    "\n",
    "plt.figure(figsize=(8,6))\n",
    "sns.heatmap(df.isnull(),yticklabels=False,cbar=False,cmap='cool')\n",
    "plt.show()"
   ]
  },
  {
   "cell_type": "markdown",
   "metadata": {},
   "source": [
    "Observation:\n",
    "    \n",
    "    Here we see it via visualization."
   ]
  },
  {
   "cell_type": "markdown",
   "metadata": {},
   "source": [
    "### Note: Before moving further lets rename some column name for our ease."
   ]
  },
  {
   "cell_type": "code",
   "execution_count": 11,
   "metadata": {},
   "outputs": [
    {
     "data": {
      "text/plain": [
       "Index(['objid', 'ra', 'dec', 'u', 'g', 'r', 'i', 'z', 'run', 'rerun', 'camcol',\n",
       "       'field', 'specobjid', 'class', 'redshift', 'plate', 'mjd', 'fiberid'],\n",
       "      dtype='object')"
      ]
     },
     "execution_count": 11,
     "metadata": {},
     "output_type": "execute_result"
    }
   ],
   "source": [
    "#Checking the columns\n",
    "df.columns"
   ]
  },
  {
   "cell_type": "code",
   "execution_count": 12,
   "metadata": {},
   "outputs": [],
   "source": [
    "#Renaming the columns\n",
    "df=df.rename(columns={'ra':'r_ascension', 'dec': 'declination', 'u': 'u_band',\n",
    "                        'g': 'g_band', 'r': 'r_band', 'i': 'i_band', 'z': 'z_band',\n",
    "                        'camcol': 'camera_col'})"
   ]
  },
  {
   "cell_type": "code",
   "execution_count": 13,
   "metadata": {},
   "outputs": [
    {
     "data": {
      "text/plain": [
       "Index(['objid', 'r_ascension', 'declination', 'u_band', 'g_band', 'r_band',\n",
       "       'i_band', 'z_band', 'run', 'rerun', 'camera_col', 'field', 'specobjid',\n",
       "       'class', 'redshift', 'plate', 'mjd', 'fiberid'],\n",
       "      dtype='object')"
      ]
     },
     "execution_count": 13,
     "metadata": {},
     "output_type": "execute_result"
    }
   ],
   "source": [
    "df.columns"
   ]
  },
  {
   "cell_type": "code",
   "execution_count": 14,
   "metadata": {},
   "outputs": [
    {
     "data": {
      "text/html": [
       "<div>\n",
       "<style scoped>\n",
       "    .dataframe tbody tr th:only-of-type {\n",
       "        vertical-align: middle;\n",
       "    }\n",
       "\n",
       "    .dataframe tbody tr th {\n",
       "        vertical-align: top;\n",
       "    }\n",
       "\n",
       "    .dataframe thead th {\n",
       "        text-align: right;\n",
       "    }\n",
       "</style>\n",
       "<table border=\"1\" class=\"dataframe\">\n",
       "  <thead>\n",
       "    <tr style=\"text-align: right;\">\n",
       "      <th></th>\n",
       "      <th>objid</th>\n",
       "      <th>r_ascension</th>\n",
       "      <th>declination</th>\n",
       "      <th>u_band</th>\n",
       "      <th>g_band</th>\n",
       "      <th>r_band</th>\n",
       "      <th>i_band</th>\n",
       "      <th>z_band</th>\n",
       "      <th>run</th>\n",
       "      <th>rerun</th>\n",
       "      <th>camera_col</th>\n",
       "      <th>field</th>\n",
       "      <th>specobjid</th>\n",
       "      <th>class</th>\n",
       "      <th>redshift</th>\n",
       "      <th>plate</th>\n",
       "      <th>mjd</th>\n",
       "      <th>fiberid</th>\n",
       "    </tr>\n",
       "  </thead>\n",
       "  <tbody>\n",
       "    <tr>\n",
       "      <th>2958</th>\n",
       "      <td>1.237650e+18</td>\n",
       "      <td>164.882757</td>\n",
       "      <td>-0.041692</td>\n",
       "      <td>18.98675</td>\n",
       "      <td>18.63113</td>\n",
       "      <td>18.44239</td>\n",
       "      <td>18.33936</td>\n",
       "      <td>18.11911</td>\n",
       "      <td>756</td>\n",
       "      <td>301</td>\n",
       "      <td>3</td>\n",
       "      <td>328</td>\n",
       "      <td>3.119500e+17</td>\n",
       "      <td>GALAXY</td>\n",
       "      <td>0.018994</td>\n",
       "      <td>277</td>\n",
       "      <td>51908</td>\n",
       "      <td>275</td>\n",
       "    </tr>\n",
       "    <tr>\n",
       "      <th>447</th>\n",
       "      <td>1.237650e+18</td>\n",
       "      <td>162.670124</td>\n",
       "      <td>-0.874412</td>\n",
       "      <td>19.07583</td>\n",
       "      <td>17.58162</td>\n",
       "      <td>16.95899</td>\n",
       "      <td>16.70053</td>\n",
       "      <td>16.53613</td>\n",
       "      <td>756</td>\n",
       "      <td>301</td>\n",
       "      <td>1</td>\n",
       "      <td>313</td>\n",
       "      <td>2.881190e+18</td>\n",
       "      <td>STAR</td>\n",
       "      <td>0.001076</td>\n",
       "      <td>2559</td>\n",
       "      <td>54208</td>\n",
       "      <td>51</td>\n",
       "    </tr>\n",
       "    <tr>\n",
       "      <th>9574</th>\n",
       "      <td>1.237650e+18</td>\n",
       "      <td>124.413312</td>\n",
       "      <td>45.541215</td>\n",
       "      <td>18.97779</td>\n",
       "      <td>18.62420</td>\n",
       "      <td>18.36406</td>\n",
       "      <td>18.09467</td>\n",
       "      <td>18.12583</td>\n",
       "      <td>1345</td>\n",
       "      <td>301</td>\n",
       "      <td>2</td>\n",
       "      <td>111</td>\n",
       "      <td>7.183400e+18</td>\n",
       "      <td>QSO</td>\n",
       "      <td>1.511881</td>\n",
       "      <td>6380</td>\n",
       "      <td>56340</td>\n",
       "      <td>566</td>\n",
       "    </tr>\n",
       "    <tr>\n",
       "      <th>3444</th>\n",
       "      <td>1.237650e+18</td>\n",
       "      <td>179.798359</td>\n",
       "      <td>-1.707060</td>\n",
       "      <td>17.58636</td>\n",
       "      <td>16.55747</td>\n",
       "      <td>16.23842</td>\n",
       "      <td>16.09514</td>\n",
       "      <td>15.98957</td>\n",
       "      <td>1140</td>\n",
       "      <td>301</td>\n",
       "      <td>5</td>\n",
       "      <td>180</td>\n",
       "      <td>3.727770e+17</td>\n",
       "      <td>GALAXY</td>\n",
       "      <td>0.020342</td>\n",
       "      <td>331</td>\n",
       "      <td>52368</td>\n",
       "      <td>380</td>\n",
       "    </tr>\n",
       "    <tr>\n",
       "      <th>1580</th>\n",
       "      <td>1.237650e+18</td>\n",
       "      <td>168.361539</td>\n",
       "      <td>-0.533836</td>\n",
       "      <td>19.46410</td>\n",
       "      <td>18.00401</td>\n",
       "      <td>17.50450</td>\n",
       "      <td>17.19832</td>\n",
       "      <td>17.03392</td>\n",
       "      <td>756</td>\n",
       "      <td>301</td>\n",
       "      <td>2</td>\n",
       "      <td>351</td>\n",
       "      <td>3.130170e+17</td>\n",
       "      <td>GALAXY</td>\n",
       "      <td>0.054632</td>\n",
       "      <td>278</td>\n",
       "      <td>51900</td>\n",
       "      <td>61</td>\n",
       "    </tr>\n",
       "  </tbody>\n",
       "</table>\n",
       "</div>"
      ],
      "text/plain": [
       "             objid  r_ascension  declination    u_band    g_band    r_band  \\\n",
       "2958  1.237650e+18   164.882757    -0.041692  18.98675  18.63113  18.44239   \n",
       "447   1.237650e+18   162.670124    -0.874412  19.07583  17.58162  16.95899   \n",
       "9574  1.237650e+18   124.413312    45.541215  18.97779  18.62420  18.36406   \n",
       "3444  1.237650e+18   179.798359    -1.707060  17.58636  16.55747  16.23842   \n",
       "1580  1.237650e+18   168.361539    -0.533836  19.46410  18.00401  17.50450   \n",
       "\n",
       "        i_band    z_band   run  rerun  camera_col  field     specobjid  \\\n",
       "2958  18.33936  18.11911   756    301           3    328  3.119500e+17   \n",
       "447   16.70053  16.53613   756    301           1    313  2.881190e+18   \n",
       "9574  18.09467  18.12583  1345    301           2    111  7.183400e+18   \n",
       "3444  16.09514  15.98957  1140    301           5    180  3.727770e+17   \n",
       "1580  17.19832  17.03392   756    301           2    351  3.130170e+17   \n",
       "\n",
       "       class  redshift  plate    mjd  fiberid  \n",
       "2958  GALAXY  0.018994    277  51908      275  \n",
       "447     STAR  0.001076   2559  54208       51  \n",
       "9574     QSO  1.511881   6380  56340      566  \n",
       "3444  GALAXY  0.020342    331  52368      380  \n",
       "1580  GALAXY  0.054632    278  51900       61  "
      ]
     },
     "execution_count": 14,
     "metadata": {},
     "output_type": "execute_result"
    }
   ],
   "source": [
    "#Takinh random samples\n",
    "df.sample(5)"
   ]
  },
  {
   "cell_type": "markdown",
   "metadata": {},
   "source": [
    "## Dropping some columns"
   ]
  },
  {
   "cell_type": "code",
   "execution_count": 15,
   "metadata": {},
   "outputs": [
    {
     "data": {
      "text/plain": [
       "Index(['objid', 'r_ascension', 'declination', 'u_band', 'g_band', 'r_band',\n",
       "       'i_band', 'z_band', 'run', 'rerun', 'camera_col', 'field', 'specobjid',\n",
       "       'class', 'redshift', 'plate', 'mjd', 'fiberid'],\n",
       "      dtype='object')"
      ]
     },
     "execution_count": 15,
     "metadata": {},
     "output_type": "execute_result"
    }
   ],
   "source": [
    "#Creating the copy of origional dataset.\n",
    "df1=df.copy()\n",
    "df1.columns"
   ]
  },
  {
   "cell_type": "markdown",
   "metadata": {},
   "source": [
    "Observation:\n",
    "    \n",
    "    The table results from a query which joins two tables (actuaclly views): \"PhotoObj\" which contains photometric data\n",
    "    \n",
    "    and \"SpecObj\" which contains spectral data."
   ]
  },
  {
   "cell_type": "code",
   "execution_count": 16,
   "metadata": {},
   "outputs": [
    {
     "name": "stdout",
     "output_type": "stream",
     "text": [
      "Distinct objid: 1\n",
      "Distinct specobjid: 6349\n"
     ]
    }
   ],
   "source": [
    "print(\"Distinct objid: %d\" %len(df.objid.unique()))\n",
    "\n",
    "print(\"Distinct specobjid: %d\" %len(df.specobjid.unique()))"
   ]
  },
  {
   "cell_type": "markdown",
   "metadata": {},
   "source": [
    "Observation 1:\n",
    "     \n",
    "        IDs in the first table are not distinct whereas some IDs in the second are unique. Reason for this is not given,\n",
    "        \n",
    "        but I am assuming that every row is a different and unique sample and so I can discard those columns without any\n",
    "        \n",
    "        problem.\n",
    "\n",
    "Observation 2:\n",
    "    \n",
    "     The features 'run', 'rerun', 'camera_col' and 'field' are values which describe portions of the camera\n",
    "    \n",
    "     right when mentioning the objective fact.\n",
    "\n",
    "        \n",
    "The run number, which identifies the specific scan.\n",
    "\n",
    "The camera column, or \"camcol,\" a number from 1 to 6, identifying the scanline within the run.\n",
    "\n",
    "The field number typically starts at 11 (after an initial rampup time), and can be as large as 800 for particularly long runs.\n",
    "\n",
    "The SDSS spectrograph uses optical fibers to direct the light at the focal plane from individual objects to the slithead. Each object is assigned a corresponding fiberID.\n",
    "\n",
    "Thats why we can drop all these features."
   ]
  },
  {
   "cell_type": "code",
   "execution_count": 17,
   "metadata": {},
   "outputs": [
    {
     "data": {
      "text/html": [
       "<div>\n",
       "<style scoped>\n",
       "    .dataframe tbody tr th:only-of-type {\n",
       "        vertical-align: middle;\n",
       "    }\n",
       "\n",
       "    .dataframe tbody tr th {\n",
       "        vertical-align: top;\n",
       "    }\n",
       "\n",
       "    .dataframe thead th {\n",
       "        text-align: right;\n",
       "    }\n",
       "</style>\n",
       "<table border=\"1\" class=\"dataframe\">\n",
       "  <thead>\n",
       "    <tr style=\"text-align: right;\">\n",
       "      <th></th>\n",
       "      <th>r_ascension</th>\n",
       "      <th>declination</th>\n",
       "      <th>u_band</th>\n",
       "      <th>g_band</th>\n",
       "      <th>r_band</th>\n",
       "      <th>i_band</th>\n",
       "      <th>z_band</th>\n",
       "      <th>class</th>\n",
       "      <th>redshift</th>\n",
       "      <th>plate</th>\n",
       "      <th>mjd</th>\n",
       "    </tr>\n",
       "  </thead>\n",
       "  <tbody>\n",
       "    <tr>\n",
       "      <th>0</th>\n",
       "      <td>183.531326</td>\n",
       "      <td>0.089693</td>\n",
       "      <td>19.47406</td>\n",
       "      <td>17.04240</td>\n",
       "      <td>15.94699</td>\n",
       "      <td>15.50342</td>\n",
       "      <td>15.22531</td>\n",
       "      <td>STAR</td>\n",
       "      <td>-0.000009</td>\n",
       "      <td>3306</td>\n",
       "      <td>54922</td>\n",
       "    </tr>\n",
       "    <tr>\n",
       "      <th>1</th>\n",
       "      <td>183.598371</td>\n",
       "      <td>0.135285</td>\n",
       "      <td>18.66280</td>\n",
       "      <td>17.21449</td>\n",
       "      <td>16.67637</td>\n",
       "      <td>16.48922</td>\n",
       "      <td>16.39150</td>\n",
       "      <td>STAR</td>\n",
       "      <td>-0.000055</td>\n",
       "      <td>323</td>\n",
       "      <td>51615</td>\n",
       "    </tr>\n",
       "    <tr>\n",
       "      <th>2</th>\n",
       "      <td>183.680207</td>\n",
       "      <td>0.126185</td>\n",
       "      <td>19.38298</td>\n",
       "      <td>18.19169</td>\n",
       "      <td>17.47428</td>\n",
       "      <td>17.08732</td>\n",
       "      <td>16.80125</td>\n",
       "      <td>GALAXY</td>\n",
       "      <td>0.123111</td>\n",
       "      <td>287</td>\n",
       "      <td>52023</td>\n",
       "    </tr>\n",
       "  </tbody>\n",
       "</table>\n",
       "</div>"
      ],
      "text/plain": [
       "   r_ascension  declination    u_band    g_band    r_band    i_band    z_band  \\\n",
       "0   183.531326     0.089693  19.47406  17.04240  15.94699  15.50342  15.22531   \n",
       "1   183.598371     0.135285  18.66280  17.21449  16.67637  16.48922  16.39150   \n",
       "2   183.680207     0.126185  19.38298  18.19169  17.47428  17.08732  16.80125   \n",
       "\n",
       "    class  redshift  plate    mjd  \n",
       "0    STAR -0.000009   3306  54922  \n",
       "1    STAR -0.000055    323  51615  \n",
       "2  GALAXY  0.123111    287  52023  "
      ]
     },
     "execution_count": 17,
     "metadata": {},
     "output_type": "execute_result"
    }
   ],
   "source": [
    "#Dropping the columns.\n",
    "df1.drop(columns=['run', 'rerun', 'camera_col', 'field', 'objid', 'specobjid', 'fiberid'], axis = 1, inplace= True)\n",
    "df1.head(3)"
   ]
  },
  {
   "cell_type": "markdown",
   "metadata": {},
   "source": [
    "## Summary Statistics"
   ]
  },
  {
   "cell_type": "code",
   "execution_count": 18,
   "metadata": {},
   "outputs": [
    {
     "data": {
      "text/html": [
       "<div>\n",
       "<style scoped>\n",
       "    .dataframe tbody tr th:only-of-type {\n",
       "        vertical-align: middle;\n",
       "    }\n",
       "\n",
       "    .dataframe tbody tr th {\n",
       "        vertical-align: top;\n",
       "    }\n",
       "\n",
       "    .dataframe thead th {\n",
       "        text-align: right;\n",
       "    }\n",
       "</style>\n",
       "<table border=\"1\" class=\"dataframe\">\n",
       "  <thead>\n",
       "    <tr style=\"text-align: right;\">\n",
       "      <th></th>\n",
       "      <th>r_ascension</th>\n",
       "      <th>declination</th>\n",
       "      <th>u_band</th>\n",
       "      <th>g_band</th>\n",
       "      <th>r_band</th>\n",
       "      <th>i_band</th>\n",
       "      <th>z_band</th>\n",
       "      <th>redshift</th>\n",
       "      <th>plate</th>\n",
       "      <th>mjd</th>\n",
       "    </tr>\n",
       "  </thead>\n",
       "  <tbody>\n",
       "    <tr>\n",
       "      <th>count</th>\n",
       "      <td>10000.000000</td>\n",
       "      <td>10000.000000</td>\n",
       "      <td>10000.000000</td>\n",
       "      <td>10000.000000</td>\n",
       "      <td>10000.000000</td>\n",
       "      <td>10000.000000</td>\n",
       "      <td>10000.000000</td>\n",
       "      <td>10000.000000</td>\n",
       "      <td>10000.000000</td>\n",
       "      <td>10000.000000</td>\n",
       "    </tr>\n",
       "    <tr>\n",
       "      <th>mean</th>\n",
       "      <td>175.529987</td>\n",
       "      <td>14.836148</td>\n",
       "      <td>18.619355</td>\n",
       "      <td>17.371931</td>\n",
       "      <td>16.840963</td>\n",
       "      <td>16.583579</td>\n",
       "      <td>16.422833</td>\n",
       "      <td>0.143726</td>\n",
       "      <td>1460.986400</td>\n",
       "      <td>52943.533300</td>\n",
       "    </tr>\n",
       "    <tr>\n",
       "      <th>std</th>\n",
       "      <td>47.783439</td>\n",
       "      <td>25.212207</td>\n",
       "      <td>0.828656</td>\n",
       "      <td>0.945457</td>\n",
       "      <td>1.067764</td>\n",
       "      <td>1.141805</td>\n",
       "      <td>1.203188</td>\n",
       "      <td>0.388774</td>\n",
       "      <td>1788.778371</td>\n",
       "      <td>1511.150651</td>\n",
       "    </tr>\n",
       "    <tr>\n",
       "      <th>min</th>\n",
       "      <td>8.235100</td>\n",
       "      <td>-5.382632</td>\n",
       "      <td>12.988970</td>\n",
       "      <td>12.799550</td>\n",
       "      <td>12.431600</td>\n",
       "      <td>11.947210</td>\n",
       "      <td>11.610410</td>\n",
       "      <td>-0.004136</td>\n",
       "      <td>266.000000</td>\n",
       "      <td>51578.000000</td>\n",
       "    </tr>\n",
       "    <tr>\n",
       "      <th>25%</th>\n",
       "      <td>157.370946</td>\n",
       "      <td>-0.539035</td>\n",
       "      <td>18.178035</td>\n",
       "      <td>16.815100</td>\n",
       "      <td>16.173333</td>\n",
       "      <td>15.853705</td>\n",
       "      <td>15.618285</td>\n",
       "      <td>0.000081</td>\n",
       "      <td>301.000000</td>\n",
       "      <td>51900.000000</td>\n",
       "    </tr>\n",
       "    <tr>\n",
       "      <th>50%</th>\n",
       "      <td>180.394514</td>\n",
       "      <td>0.404166</td>\n",
       "      <td>18.853095</td>\n",
       "      <td>17.495135</td>\n",
       "      <td>16.858770</td>\n",
       "      <td>16.554985</td>\n",
       "      <td>16.389945</td>\n",
       "      <td>0.042591</td>\n",
       "      <td>441.000000</td>\n",
       "      <td>51997.000000</td>\n",
       "    </tr>\n",
       "    <tr>\n",
       "      <th>75%</th>\n",
       "      <td>201.547279</td>\n",
       "      <td>35.649397</td>\n",
       "      <td>19.259232</td>\n",
       "      <td>18.010145</td>\n",
       "      <td>17.512675</td>\n",
       "      <td>17.258550</td>\n",
       "      <td>17.141447</td>\n",
       "      <td>0.092579</td>\n",
       "      <td>2559.000000</td>\n",
       "      <td>54468.000000</td>\n",
       "    </tr>\n",
       "    <tr>\n",
       "      <th>max</th>\n",
       "      <td>260.884382</td>\n",
       "      <td>68.542265</td>\n",
       "      <td>19.599900</td>\n",
       "      <td>19.918970</td>\n",
       "      <td>24.802040</td>\n",
       "      <td>28.179630</td>\n",
       "      <td>22.833060</td>\n",
       "      <td>5.353854</td>\n",
       "      <td>8410.000000</td>\n",
       "      <td>57481.000000</td>\n",
       "    </tr>\n",
       "  </tbody>\n",
       "</table>\n",
       "</div>"
      ],
      "text/plain": [
       "        r_ascension   declination        u_band        g_band        r_band  \\\n",
       "count  10000.000000  10000.000000  10000.000000  10000.000000  10000.000000   \n",
       "mean     175.529987     14.836148     18.619355     17.371931     16.840963   \n",
       "std       47.783439     25.212207      0.828656      0.945457      1.067764   \n",
       "min        8.235100     -5.382632     12.988970     12.799550     12.431600   \n",
       "25%      157.370946     -0.539035     18.178035     16.815100     16.173333   \n",
       "50%      180.394514      0.404166     18.853095     17.495135     16.858770   \n",
       "75%      201.547279     35.649397     19.259232     18.010145     17.512675   \n",
       "max      260.884382     68.542265     19.599900     19.918970     24.802040   \n",
       "\n",
       "             i_band        z_band      redshift         plate           mjd  \n",
       "count  10000.000000  10000.000000  10000.000000  10000.000000  10000.000000  \n",
       "mean      16.583579     16.422833      0.143726   1460.986400  52943.533300  \n",
       "std        1.141805      1.203188      0.388774   1788.778371   1511.150651  \n",
       "min       11.947210     11.610410     -0.004136    266.000000  51578.000000  \n",
       "25%       15.853705     15.618285      0.000081    301.000000  51900.000000  \n",
       "50%       16.554985     16.389945      0.042591    441.000000  51997.000000  \n",
       "75%       17.258550     17.141447      0.092579   2559.000000  54468.000000  \n",
       "max       28.179630     22.833060      5.353854   8410.000000  57481.000000  "
      ]
     },
     "execution_count": 18,
     "metadata": {},
     "output_type": "execute_result"
    }
   ],
   "source": [
    "df1.describe()"
   ]
  },
  {
   "cell_type": "markdown",
   "metadata": {},
   "source": [
    "Observation:\n",
    "    \n",
    "    1-The difference between 75% and maximum is high in declination, r_band, i_band, redshift, plate column. So  outliers \n",
    "    \n",
    "      are present in these columns.\n",
    "        \n",
    "    2-Mean is higher than median in declination, plate, mjd columns. So for these columns data is right skewed.\n",
    "    \n",
    "    3-Median is higher than mean in r_ascension column. So for this column data is left skewed."
   ]
  },
  {
   "cell_type": "markdown",
   "metadata": {},
   "source": [
    "## Exploring data variables"
   ]
  },
  {
   "cell_type": "code",
   "execution_count": 19,
   "metadata": {},
   "outputs": [
    {
     "data": {
      "text/plain": [
       "array(['STAR', 'GALAXY', 'QSO'], dtype=object)"
      ]
     },
     "execution_count": 19,
     "metadata": {},
     "output_type": "execute_result"
    }
   ],
   "source": [
    "df1['class'].unique()"
   ]
  },
  {
   "cell_type": "code",
   "execution_count": 20,
   "metadata": {},
   "outputs": [
    {
     "data": {
      "text/plain": [
       "GALAXY    4998\n",
       "STAR      4152\n",
       "QSO        850\n",
       "Name: class, dtype: int64"
      ]
     },
     "execution_count": 20,
     "metadata": {},
     "output_type": "execute_result"
    }
   ],
   "source": [
    "df1['class'].value_counts()"
   ]
  },
  {
   "cell_type": "markdown",
   "metadata": {},
   "source": [
    "## To check the correlation"
   ]
  },
  {
   "cell_type": "code",
   "execution_count": 21,
   "metadata": {},
   "outputs": [
    {
     "data": {
      "text/html": [
       "<div>\n",
       "<style scoped>\n",
       "    .dataframe tbody tr th:only-of-type {\n",
       "        vertical-align: middle;\n",
       "    }\n",
       "\n",
       "    .dataframe tbody tr th {\n",
       "        vertical-align: top;\n",
       "    }\n",
       "\n",
       "    .dataframe thead th {\n",
       "        text-align: right;\n",
       "    }\n",
       "</style>\n",
       "<table border=\"1\" class=\"dataframe\">\n",
       "  <thead>\n",
       "    <tr style=\"text-align: right;\">\n",
       "      <th></th>\n",
       "      <th>r_ascension</th>\n",
       "      <th>declination</th>\n",
       "      <th>u_band</th>\n",
       "      <th>g_band</th>\n",
       "      <th>r_band</th>\n",
       "      <th>i_band</th>\n",
       "      <th>z_band</th>\n",
       "      <th>redshift</th>\n",
       "      <th>plate</th>\n",
       "      <th>mjd</th>\n",
       "    </tr>\n",
       "  </thead>\n",
       "  <tbody>\n",
       "    <tr>\n",
       "      <th>r_ascension</th>\n",
       "      <td>1.000000</td>\n",
       "      <td>0.003596</td>\n",
       "      <td>0.031238</td>\n",
       "      <td>0.043909</td>\n",
       "      <td>0.047103</td>\n",
       "      <td>0.045731</td>\n",
       "      <td>0.042950</td>\n",
       "      <td>0.030307</td>\n",
       "      <td>-0.095329</td>\n",
       "      <td>-0.086887</td>\n",
       "    </tr>\n",
       "    <tr>\n",
       "      <th>declination</th>\n",
       "      <td>0.003596</td>\n",
       "      <td>1.000000</td>\n",
       "      <td>0.035279</td>\n",
       "      <td>0.061875</td>\n",
       "      <td>0.063404</td>\n",
       "      <td>0.058292</td>\n",
       "      <td>0.056870</td>\n",
       "      <td>0.067021</td>\n",
       "      <td>0.088342</td>\n",
       "      <td>0.066147</td>\n",
       "    </tr>\n",
       "    <tr>\n",
       "      <th>u_band</th>\n",
       "      <td>0.031238</td>\n",
       "      <td>0.035279</td>\n",
       "      <td>1.000000</td>\n",
       "      <td>0.849232</td>\n",
       "      <td>0.692379</td>\n",
       "      <td>0.602630</td>\n",
       "      <td>0.551483</td>\n",
       "      <td>0.163741</td>\n",
       "      <td>-0.129430</td>\n",
       "      <td>-0.168793</td>\n",
       "    </tr>\n",
       "    <tr>\n",
       "      <th>g_band</th>\n",
       "      <td>0.043909</td>\n",
       "      <td>0.061875</td>\n",
       "      <td>0.849232</td>\n",
       "      <td>1.000000</td>\n",
       "      <td>0.958106</td>\n",
       "      <td>0.907419</td>\n",
       "      <td>0.879622</td>\n",
       "      <td>0.407576</td>\n",
       "      <td>-0.054981</td>\n",
       "      <td>-0.092772</td>\n",
       "    </tr>\n",
       "    <tr>\n",
       "      <th>r_band</th>\n",
       "      <td>0.047103</td>\n",
       "      <td>0.063404</td>\n",
       "      <td>0.692379</td>\n",
       "      <td>0.958106</td>\n",
       "      <td>1.000000</td>\n",
       "      <td>0.977672</td>\n",
       "      <td>0.969197</td>\n",
       "      <td>0.441080</td>\n",
       "      <td>0.019787</td>\n",
       "      <td>-0.009345</td>\n",
       "    </tr>\n",
       "    <tr>\n",
       "      <th>i_band</th>\n",
       "      <td>0.045731</td>\n",
       "      <td>0.058292</td>\n",
       "      <td>0.602630</td>\n",
       "      <td>0.907419</td>\n",
       "      <td>0.977672</td>\n",
       "      <td>1.000000</td>\n",
       "      <td>0.981507</td>\n",
       "      <td>0.431450</td>\n",
       "      <td>0.072958</td>\n",
       "      <td>0.050896</td>\n",
       "    </tr>\n",
       "    <tr>\n",
       "      <th>z_band</th>\n",
       "      <td>0.042950</td>\n",
       "      <td>0.056870</td>\n",
       "      <td>0.551483</td>\n",
       "      <td>0.879622</td>\n",
       "      <td>0.969197</td>\n",
       "      <td>0.981507</td>\n",
       "      <td>1.000000</td>\n",
       "      <td>0.424034</td>\n",
       "      <td>0.112397</td>\n",
       "      <td>0.095658</td>\n",
       "    </tr>\n",
       "    <tr>\n",
       "      <th>redshift</th>\n",
       "      <td>0.030307</td>\n",
       "      <td>0.067021</td>\n",
       "      <td>0.163741</td>\n",
       "      <td>0.407576</td>\n",
       "      <td>0.441080</td>\n",
       "      <td>0.431450</td>\n",
       "      <td>0.424034</td>\n",
       "      <td>1.000000</td>\n",
       "      <td>-0.038091</td>\n",
       "      <td>-0.057957</td>\n",
       "    </tr>\n",
       "    <tr>\n",
       "      <th>plate</th>\n",
       "      <td>-0.095329</td>\n",
       "      <td>0.088342</td>\n",
       "      <td>-0.129430</td>\n",
       "      <td>-0.054981</td>\n",
       "      <td>0.019787</td>\n",
       "      <td>0.072958</td>\n",
       "      <td>0.112397</td>\n",
       "      <td>-0.038091</td>\n",
       "      <td>1.000000</td>\n",
       "      <td>0.966881</td>\n",
       "    </tr>\n",
       "    <tr>\n",
       "      <th>mjd</th>\n",
       "      <td>-0.086887</td>\n",
       "      <td>0.066147</td>\n",
       "      <td>-0.168793</td>\n",
       "      <td>-0.092772</td>\n",
       "      <td>-0.009345</td>\n",
       "      <td>0.050896</td>\n",
       "      <td>0.095658</td>\n",
       "      <td>-0.057957</td>\n",
       "      <td>0.966881</td>\n",
       "      <td>1.000000</td>\n",
       "    </tr>\n",
       "  </tbody>\n",
       "</table>\n",
       "</div>"
      ],
      "text/plain": [
       "             r_ascension  declination    u_band    g_band    r_band    i_band  \\\n",
       "r_ascension     1.000000     0.003596  0.031238  0.043909  0.047103  0.045731   \n",
       "declination     0.003596     1.000000  0.035279  0.061875  0.063404  0.058292   \n",
       "u_band          0.031238     0.035279  1.000000  0.849232  0.692379  0.602630   \n",
       "g_band          0.043909     0.061875  0.849232  1.000000  0.958106  0.907419   \n",
       "r_band          0.047103     0.063404  0.692379  0.958106  1.000000  0.977672   \n",
       "i_band          0.045731     0.058292  0.602630  0.907419  0.977672  1.000000   \n",
       "z_band          0.042950     0.056870  0.551483  0.879622  0.969197  0.981507   \n",
       "redshift        0.030307     0.067021  0.163741  0.407576  0.441080  0.431450   \n",
       "plate          -0.095329     0.088342 -0.129430 -0.054981  0.019787  0.072958   \n",
       "mjd            -0.086887     0.066147 -0.168793 -0.092772 -0.009345  0.050896   \n",
       "\n",
       "               z_band  redshift     plate       mjd  \n",
       "r_ascension  0.042950  0.030307 -0.095329 -0.086887  \n",
       "declination  0.056870  0.067021  0.088342  0.066147  \n",
       "u_band       0.551483  0.163741 -0.129430 -0.168793  \n",
       "g_band       0.879622  0.407576 -0.054981 -0.092772  \n",
       "r_band       0.969197  0.441080  0.019787 -0.009345  \n",
       "i_band       0.981507  0.431450  0.072958  0.050896  \n",
       "z_band       1.000000  0.424034  0.112397  0.095658  \n",
       "redshift     0.424034  1.000000 -0.038091 -0.057957  \n",
       "plate        0.112397 -0.038091  1.000000  0.966881  \n",
       "mjd          0.095658 -0.057957  0.966881  1.000000  "
      ]
     },
     "execution_count": 21,
     "metadata": {},
     "output_type": "execute_result"
    }
   ],
   "source": [
    "df1_cor=df1.corr()\n",
    "df1_cor"
   ]
  },
  {
   "cell_type": "markdown",
   "metadata": {},
   "source": [
    "Here we can see the correlation between the columns.\n",
    "\n",
    "For Better understanding we can see it via visualization(with the help of heatmap)."
   ]
  },
  {
   "cell_type": "code",
   "execution_count": 22,
   "metadata": {},
   "outputs": [
    {
     "data": {
      "image/png": "[encoded data removed]",
      "text/plain": [
       "<Figure size 720x576 with 2 Axes>"
      ]
     },
     "metadata": {},
     "output_type": "display_data"
    }
   ],
   "source": [
    "plt.figure(figsize=(10,8))\n",
    "sns.heatmap(df1_cor,annot=True,fmt='.0%',cmap='coolwarm')\n",
    "plt.show()"
   ]
  },
  {
   "cell_type": "markdown",
   "metadata": {},
   "source": [
    "Observation:\n",
    "    \n",
    "    1-u_band, g_band, r_band, i_band, z_band columns are highly correlated with each other.\n",
    "    \n",
    "    2-plate and mjd columns are highly correlated with each other.\n",
    "    \n",
    "    3-redshift column is slightly low but positive correlated with bands column."
   ]
  },
  {
   "cell_type": "markdown",
   "metadata": {},
   "source": [
    "# Visualization"
   ]
  },
  {
   "cell_type": "code",
   "execution_count": 23,
   "metadata": {},
   "outputs": [
    {
     "data": {
      "image/png": "[encoded data removed]",
      "text/plain": [
       "<Figure size 432x288 with 1 Axes>"
      ]
     },
     "metadata": {},
     "output_type": "display_data"
    },
    {
     "name": "stdout",
     "output_type": "stream",
     "text": [
      "GALAXY    4998\n",
      "STAR      4152\n",
      "QSO        850\n",
      "Name: class, dtype: int64\n"
     ]
    }
   ],
   "source": [
    "#Checking class.\n",
    "plt.subplots(figsize=(6,4))\n",
    "sns.countplot(x=\"class\", data=df1)\n",
    "plt.show()\n",
    "\n",
    "print(df1['class'].value_counts())"
   ]
  },
  {
   "cell_type": "markdown",
   "metadata": {},
   "source": [
    "Observation:\n",
    "    \n",
    "    There are 4998 Galaxy, 4152 stars and 850 Quasar"
   ]
  },
  {
   "cell_type": "code",
   "execution_count": 24,
   "metadata": {},
   "outputs": [
    {
     "data": {
      "text/plain": [
       "Index(['r_ascension', 'declination', 'u_band', 'g_band', 'r_band', 'i_band',\n",
       "       'z_band', 'class', 'redshift', 'plate', 'mjd'],\n",
       "      dtype='object')"
      ]
     },
     "execution_count": 24,
     "metadata": {},
     "output_type": "execute_result"
    }
   ],
   "source": [
    "df1.columns"
   ]
  },
  {
   "cell_type": "markdown",
   "metadata": {},
   "source": [
    "### Now I am going to plot the column distribution by grouping by each class."
   ]
  },
  {
   "cell_type": "code",
   "execution_count": 25,
   "metadata": {},
   "outputs": [
    {
     "data": {
      "text/html": [
       "<div>\n",
       "<style scoped>\n",
       "    .dataframe tbody tr th:only-of-type {\n",
       "        vertical-align: middle;\n",
       "    }\n",
       "\n",
       "    .dataframe tbody tr th {\n",
       "        vertical-align: top;\n",
       "    }\n",
       "\n",
       "    .dataframe thead th {\n",
       "        text-align: right;\n",
       "    }\n",
       "</style>\n",
       "<table border=\"1\" class=\"dataframe\">\n",
       "  <thead>\n",
       "    <tr style=\"text-align: right;\">\n",
       "      <th></th>\n",
       "      <th>class</th>\n",
       "      <th>variable</th>\n",
       "      <th>value</th>\n",
       "    </tr>\n",
       "  </thead>\n",
       "  <tbody>\n",
       "    <tr>\n",
       "      <th>0</th>\n",
       "      <td>STAR</td>\n",
       "      <td>r_ascension</td>\n",
       "      <td>183.531326</td>\n",
       "    </tr>\n",
       "    <tr>\n",
       "      <th>1</th>\n",
       "      <td>STAR</td>\n",
       "      <td>r_ascension</td>\n",
       "      <td>183.598371</td>\n",
       "    </tr>\n",
       "    <tr>\n",
       "      <th>2</th>\n",
       "      <td>GALAXY</td>\n",
       "      <td>r_ascension</td>\n",
       "      <td>183.680207</td>\n",
       "    </tr>\n",
       "    <tr>\n",
       "      <th>3</th>\n",
       "      <td>STAR</td>\n",
       "      <td>r_ascension</td>\n",
       "      <td>183.870529</td>\n",
       "    </tr>\n",
       "    <tr>\n",
       "      <th>4</th>\n",
       "      <td>STAR</td>\n",
       "      <td>r_ascension</td>\n",
       "      <td>183.883288</td>\n",
       "    </tr>\n",
       "  </tbody>\n",
       "</table>\n",
       "</div>"
      ],
      "text/plain": [
       "    class     variable       value\n",
       "0    STAR  r_ascension  183.531326\n",
       "1    STAR  r_ascension  183.598371\n",
       "2  GALAXY  r_ascension  183.680207\n",
       "3    STAR  r_ascension  183.870529\n",
       "4    STAR  r_ascension  183.883288"
      ]
     },
     "execution_count": 25,
     "metadata": {},
     "output_type": "execute_result"
    }
   ],
   "source": [
    "melted = pd.melt(df1,id_vars=['class'],\n",
    "                      value_vars=['r_ascension','declination','u_band','g_band','r_band','i_band','z_band','redshift'])\n",
    "melted.head()"
   ]
  },
  {
   "cell_type": "code",
   "execution_count": 26,
   "metadata": {},
   "outputs": [
    {
     "data": {
      "text/plain": [
       "<Figure size 432x288 with 0 Axes>"
      ]
     },
     "metadata": {},
     "output_type": "display_data"
    },
    {
     "data": {
      "image/png": "[encoded data removed]",
      "text/plain": [
       "<Figure size 939.875x432 with 8 Axes>"
      ]
     },
     "metadata": {},
     "output_type": "display_data"
    }
   ],
   "source": [
    "plt.figure(figsize=(6,4))\n",
    "facet=sns.FacetGrid(melted,col='variable',hue='class',col_wrap=4,sharex=False,sharey=False,margin_titles=True)\n",
    "facet=facet.map(sns.kdeplot,'value',shade=True)\n",
    "facet=facet.add_legend()\n",
    "plt.show()"
   ]
  },
  {
   "cell_type": "code",
   "execution_count": 27,
   "metadata": {},
   "outputs": [
    {
     "data": {
      "image/png": "[encoded data removed]",
      "text/plain": [
       "<Figure size 648x216 with 3 Axes>"
      ]
     },
     "metadata": {},
     "output_type": "display_data"
    }
   ],
   "source": [
    "facet = sns.FacetGrid(df1, col='class', hue='class', margin_titles=True, sharex=False, sharey=False)\n",
    "facet = facet.map(sns.kdeplot, 'redshift', shade=True)"
   ]
  },
  {
   "cell_type": "markdown",
   "metadata": {},
   "source": [
    "Observation:\n",
    "    \n",
    "    1-As far as physical features are concerned, we can note a pretty much similar distribution across the classes for\n",
    "    \n",
    "      r_ascension and declination, on the other hand the quasar class shows a different distribution than the other two\n",
    "    \n",
    "      if we look at band features.\n",
    "    \n",
    "    2-redshift is a special case that needed the three classes to be displayed separately because of the spiked distribution\n",
    "    \n",
    "      of star class.\n",
    "    \n",
    "    3-Overall, I would guess that r_ascension and declination will not be very significant in classification, band features \n",
    "      \n",
    "        will be more important especially to discriminate quasar and not quasar, and lastly redshift will be the most \n",
    "        \n",
    "        significative one."
   ]
  },
  {
   "cell_type": "code",
   "execution_count": 28,
   "metadata": {},
   "outputs": [
    {
     "data": {
      "text/plain": [
       "<matplotlib.axes._subplots.AxesSubplot at 0x3e833fa2b0>"
      ]
     },
     "execution_count": 28,
     "metadata": {},
     "output_type": "execute_result"
    },
    {
     "data": {
      "image/png": "[encoded data removed]",
      "text/plain": [
       "<Figure size 432x288 with 1 Axes>"
      ]
     },
     "metadata": {},
     "output_type": "display_data"
    }
   ],
   "source": [
    "sns.stripplot(x=\"class\", y=\"r_ascension\", data=df1, palette=\"BuPu\")"
   ]
  },
  {
   "cell_type": "code",
   "execution_count": 29,
   "metadata": {},
   "outputs": [
    {
     "data": {
      "text/plain": [
       "<matplotlib.axes._subplots.AxesSubplot at 0x3e83418550>"
      ]
     },
     "execution_count": 29,
     "metadata": {},
     "output_type": "execute_result"
    },
    {
     "data": {
      "image/png": "[encoded data removed]",
      "text/plain": [
       "<Figure size 432x288 with 1 Axes>"
      ]
     },
     "metadata": {},
     "output_type": "display_data"
    }
   ],
   "source": [
    "sns.stripplot(x=\"class\", y=\"plate\", data=df1, palette=\"BuPu\")"
   ]
  },
  {
   "cell_type": "code",
   "execution_count": 30,
   "metadata": {},
   "outputs": [
    {
     "data": {
      "image/png": "[encoded data removed]",
      "text/plain": [
       "<Figure size 1080x360 with 3 Axes>"
      ]
     },
     "metadata": {},
     "output_type": "display_data"
    }
   ],
   "source": [
    "#lmplot\n",
    "sns.lmplot(x = 'r_band', y='g_band', data = df1, hue='class', col = 'class', palette='Dark2')\n",
    "plt.show()"
   ]
  },
  {
   "cell_type": "code",
   "execution_count": 31,
   "metadata": {},
   "outputs": [
    {
     "data": {
      "image/png": "[encoded data removed]",
      "text/plain": [
       "<Figure size 1080x360 with 3 Axes>"
      ]
     },
     "metadata": {},
     "output_type": "display_data"
    }
   ],
   "source": [
    "#lmplot\n",
    "sns.lmplot(x = 'plate', y='mjd', data = df1, hue='class', col = 'class', palette='Set1')\n",
    "plt.show()"
   ]
  },
  {
   "cell_type": "code",
   "execution_count": 32,
   "metadata": {},
   "outputs": [
    {
     "data": {
      "image/png": "[encoded data removed]",
      "text/plain": [
       "<Figure size 1080x360 with 3 Axes>"
      ]
     },
     "metadata": {},
     "output_type": "display_data"
    }
   ],
   "source": [
    "#lmplot\n",
    "sns.lmplot(x = 'i_band', y='z_band', data = df1, hue='class', col = 'class', palette='tab10_r')\n",
    "plt.show()"
   ]
  },
  {
   "cell_type": "markdown",
   "metadata": {},
   "source": [
    "## To check the distribution of Skewness"
   ]
  },
  {
   "cell_type": "code",
   "execution_count": 33,
   "metadata": {},
   "outputs": [
    {
     "data": {
      "text/html": [
       "<div>\n",
       "<style scoped>\n",
       "    .dataframe tbody tr th:only-of-type {\n",
       "        vertical-align: middle;\n",
       "    }\n",
       "\n",
       "    .dataframe tbody tr th {\n",
       "        vertical-align: top;\n",
       "    }\n",
       "\n",
       "    .dataframe thead th {\n",
       "        text-align: right;\n",
       "    }\n",
       "</style>\n",
       "<table border=\"1\" class=\"dataframe\">\n",
       "  <thead>\n",
       "    <tr style=\"text-align: right;\">\n",
       "      <th></th>\n",
       "      <th>r_ascension</th>\n",
       "      <th>declination</th>\n",
       "      <th>u_band</th>\n",
       "      <th>g_band</th>\n",
       "      <th>r_band</th>\n",
       "      <th>i_band</th>\n",
       "      <th>z_band</th>\n",
       "      <th>class</th>\n",
       "      <th>redshift</th>\n",
       "      <th>plate</th>\n",
       "      <th>mjd</th>\n",
       "    </tr>\n",
       "  </thead>\n",
       "  <tbody>\n",
       "    <tr>\n",
       "      <th>0</th>\n",
       "      <td>183.531326</td>\n",
       "      <td>0.089693</td>\n",
       "      <td>19.47406</td>\n",
       "      <td>17.04240</td>\n",
       "      <td>15.94699</td>\n",
       "      <td>15.50342</td>\n",
       "      <td>15.22531</td>\n",
       "      <td>STAR</td>\n",
       "      <td>-0.000009</td>\n",
       "      <td>3306</td>\n",
       "      <td>54922</td>\n",
       "    </tr>\n",
       "    <tr>\n",
       "      <th>1</th>\n",
       "      <td>183.598371</td>\n",
       "      <td>0.135285</td>\n",
       "      <td>18.66280</td>\n",
       "      <td>17.21449</td>\n",
       "      <td>16.67637</td>\n",
       "      <td>16.48922</td>\n",
       "      <td>16.39150</td>\n",
       "      <td>STAR</td>\n",
       "      <td>-0.000055</td>\n",
       "      <td>323</td>\n",
       "      <td>51615</td>\n",
       "    </tr>\n",
       "    <tr>\n",
       "      <th>2</th>\n",
       "      <td>183.680207</td>\n",
       "      <td>0.126185</td>\n",
       "      <td>19.38298</td>\n",
       "      <td>18.19169</td>\n",
       "      <td>17.47428</td>\n",
       "      <td>17.08732</td>\n",
       "      <td>16.80125</td>\n",
       "      <td>GALAXY</td>\n",
       "      <td>0.123111</td>\n",
       "      <td>287</td>\n",
       "      <td>52023</td>\n",
       "    </tr>\n",
       "  </tbody>\n",
       "</table>\n",
       "</div>"
      ],
      "text/plain": [
       "   r_ascension  declination    u_band    g_band    r_band    i_band    z_band  \\\n",
       "0   183.531326     0.089693  19.47406  17.04240  15.94699  15.50342  15.22531   \n",
       "1   183.598371     0.135285  18.66280  17.21449  16.67637  16.48922  16.39150   \n",
       "2   183.680207     0.126185  19.38298  18.19169  17.47428  17.08732  16.80125   \n",
       "\n",
       "    class  redshift  plate    mjd  \n",
       "0    STAR -0.000009   3306  54922  \n",
       "1    STAR -0.000055    323  51615  \n",
       "2  GALAXY  0.123111    287  52023  "
      ]
     },
     "execution_count": 33,
     "metadata": {},
     "output_type": "execute_result"
    }
   ],
   "source": [
    "df1.head(3)"
   ]
  },
  {
   "cell_type": "code",
   "execution_count": 34,
   "metadata": {},
   "outputs": [
    {
     "data": {
      "text/plain": [
       "r_ascension   -1.227350\n",
       "declination    1.191544\n",
       "u_band        -1.219795\n",
       "g_band        -0.536293\n",
       "r_band        -0.021673\n",
       "i_band         0.286442\n",
       "z_band         0.214313\n",
       "redshift       4.265729\n",
       "plate          1.794609\n",
       "mjd            1.039610\n",
       "dtype: float64"
      ]
     },
     "execution_count": 34,
     "metadata": {},
     "output_type": "execute_result"
    }
   ],
   "source": [
    "df1.skew()"
   ]
  },
  {
   "cell_type": "code",
   "execution_count": 35,
   "metadata": {},
   "outputs": [],
   "source": [
    "#Lets treat the skewness\n",
    "#df1.skew()\n",
    "#for col in df1.skew().index:\n",
    "#    if col in df1.columns:\n",
    "#        if df1.skew().loc[col]>0.5:\n",
    "#            df1[col]=np.sqrt(df1[col])\n",
    "#       if df1.skew().loc[col]<-0.5:\n",
    "#            df1[col]=np.cbrt(df1[col])"
   ]
  },
  {
   "cell_type": "code",
   "execution_count": 36,
   "metadata": {},
   "outputs": [],
   "source": [
    "#df1.skew()"
   ]
  },
  {
   "cell_type": "markdown",
   "metadata": {},
   "source": [
    "If we remove skewness then some of the rows in redshift columns are become NaN therefore when we are going to remove outliers then all the rows of redshift columns become NaN when we find out zscore. So when we remove outliers then all rows are removed and no rows are present in our dataset. For that reason we are not going to remove oultiers via zscore if we remove skewness."
   ]
  },
  {
   "cell_type": "code",
   "execution_count": 37,
   "metadata": {},
   "outputs": [
    {
     "data": {
      "text/html": [
       "<div>\n",
       "<style scoped>\n",
       "    .dataframe tbody tr th:only-of-type {\n",
       "        vertical-align: middle;\n",
       "    }\n",
       "\n",
       "    .dataframe tbody tr th {\n",
       "        vertical-align: top;\n",
       "    }\n",
       "\n",
       "    .dataframe thead th {\n",
       "        text-align: right;\n",
       "    }\n",
       "</style>\n",
       "<table border=\"1\" class=\"dataframe\">\n",
       "  <thead>\n",
       "    <tr style=\"text-align: right;\">\n",
       "      <th></th>\n",
       "      <th>r_ascension</th>\n",
       "      <th>declination</th>\n",
       "      <th>u_band</th>\n",
       "      <th>g_band</th>\n",
       "      <th>r_band</th>\n",
       "      <th>i_band</th>\n",
       "      <th>z_band</th>\n",
       "      <th>class</th>\n",
       "      <th>redshift</th>\n",
       "      <th>plate</th>\n",
       "      <th>mjd</th>\n",
       "    </tr>\n",
       "  </thead>\n",
       "  <tbody>\n",
       "    <tr>\n",
       "      <th>0</th>\n",
       "      <td>183.531326</td>\n",
       "      <td>0.089693</td>\n",
       "      <td>19.47406</td>\n",
       "      <td>17.04240</td>\n",
       "      <td>15.94699</td>\n",
       "      <td>15.50342</td>\n",
       "      <td>15.22531</td>\n",
       "      <td>STAR</td>\n",
       "      <td>-0.000009</td>\n",
       "      <td>3306</td>\n",
       "      <td>54922</td>\n",
       "    </tr>\n",
       "    <tr>\n",
       "      <th>1</th>\n",
       "      <td>183.598371</td>\n",
       "      <td>0.135285</td>\n",
       "      <td>18.66280</td>\n",
       "      <td>17.21449</td>\n",
       "      <td>16.67637</td>\n",
       "      <td>16.48922</td>\n",
       "      <td>16.39150</td>\n",
       "      <td>STAR</td>\n",
       "      <td>-0.000055</td>\n",
       "      <td>323</td>\n",
       "      <td>51615</td>\n",
       "    </tr>\n",
       "    <tr>\n",
       "      <th>2</th>\n",
       "      <td>183.680207</td>\n",
       "      <td>0.126185</td>\n",
       "      <td>19.38298</td>\n",
       "      <td>18.19169</td>\n",
       "      <td>17.47428</td>\n",
       "      <td>17.08732</td>\n",
       "      <td>16.80125</td>\n",
       "      <td>GALAXY</td>\n",
       "      <td>0.123111</td>\n",
       "      <td>287</td>\n",
       "      <td>52023</td>\n",
       "    </tr>\n",
       "  </tbody>\n",
       "</table>\n",
       "</div>"
      ],
      "text/plain": [
       "   r_ascension  declination    u_band    g_band    r_band    i_band    z_band  \\\n",
       "0   183.531326     0.089693  19.47406  17.04240  15.94699  15.50342  15.22531   \n",
       "1   183.598371     0.135285  18.66280  17.21449  16.67637  16.48922  16.39150   \n",
       "2   183.680207     0.126185  19.38298  18.19169  17.47428  17.08732  16.80125   \n",
       "\n",
       "    class  redshift  plate    mjd  \n",
       "0    STAR -0.000009   3306  54922  \n",
       "1    STAR -0.000055    323  51615  \n",
       "2  GALAXY  0.123111    287  52023  "
      ]
     },
     "execution_count": 37,
     "metadata": {},
     "output_type": "execute_result"
    }
   ],
   "source": [
    "df1.head(3)"
   ]
  },
  {
   "cell_type": "markdown",
   "metadata": {},
   "source": [
    "## Plotting Outliers"
   ]
  },
  {
   "cell_type": "code",
   "execution_count": 38,
   "metadata": {},
   "outputs": [
    {
     "data": {
      "text/plain": [
       "<matplotlib.axes._subplots.AxesSubplot at 0x3e8124e748>"
      ]
     },
     "execution_count": 38,
     "metadata": {},
     "output_type": "execute_result"
    },
    {
     "data": {
      "image/png": "[encoded data removed]",
      "text/plain": [
       "<Figure size 1296x720 with 4 Axes>"
      ]
     },
     "metadata": {},
     "output_type": "display_data"
    }
   ],
   "source": [
    "fig, ((ax1, ax2), (ax3, ax4)) = plt.subplots(nrows=2, ncols=2, figsize = (18, 10))\n",
    "sns.boxplot(ax=ax1, x = 'class', y = 'r_ascension', hue = 'class', data = df1)\n",
    "sns.boxplot(ax=ax2, x = 'class', y = 'declination', hue = 'class', data = df1)\n",
    "sns.boxplot(ax=ax3, x = 'class', y = 'u_band', hue = 'class', data = df1)\n",
    "sns.boxplot(ax=ax4, x = 'class', y = 'g_band', hue = 'class', data = df1)"
   ]
  },
  {
   "cell_type": "code",
   "execution_count": 39,
   "metadata": {},
   "outputs": [
    {
     "data": {
      "text/plain": [
       "<matplotlib.axes._subplots.AxesSubplot at 0x3e851445f8>"
      ]
     },
     "execution_count": 39,
     "metadata": {},
     "output_type": "execute_result"
    },
    {
     "data": {
      "image/png": "[encoded data removed]",
      "text/plain": [
       "<Figure size 1584x864 with 6 Axes>"
      ]
     },
     "metadata": {},
     "output_type": "display_data"
    }
   ],
   "source": [
    "fig, ((ax1, ax2, ax3), (ax4, ax5, ax6)) = plt.subplots(nrows=2, ncols=3, figsize = (22, 12))\n",
    "\n",
    "sns.boxplot(ax=ax1 , x = 'class', y = 'r_band', hue = 'class', data = df1)\n",
    "sns.boxplot(ax=ax2 , x = 'class', y = 'i_band', hue = 'class', data = df1)\n",
    "sns.boxplot(ax=ax3 , x = 'class', y = 'z_band', hue = 'class', data = df1)\n",
    "sns.boxplot(ax=ax4 , x = 'class', y = 'redshift', hue = 'class', data = df1)\n",
    "sns.boxplot(ax=ax5 , x = 'class', y = 'plate', hue = 'class', data = df1)\n",
    "sns.boxplot(ax=ax6 , x = 'class', y = 'mjd', hue = 'class', data = df1)"
   ]
  },
  {
   "cell_type": "markdown",
   "metadata": {},
   "source": [
    "### Changing Categorical features into Numeric features"
   ]
  },
  {
   "cell_type": "code",
   "execution_count": 40,
   "metadata": {},
   "outputs": [
    {
     "data": {
      "text/plain": [
       "dtype('int64')"
      ]
     },
     "execution_count": 40,
     "metadata": {},
     "output_type": "execute_result"
    }
   ],
   "source": [
    "#Changing the data type of target variable.\n",
    "\n",
    "df1['class'] = df1['class'].map({'STAR' : 1, 'GALAXY' : 2, 'QSO': 3})\n",
    "df1['class'].dtypes"
   ]
  },
  {
   "cell_type": "code",
   "execution_count": 41,
   "metadata": {},
   "outputs": [
    {
     "data": {
      "text/html": [
       "<div>\n",
       "<style scoped>\n",
       "    .dataframe tbody tr th:only-of-type {\n",
       "        vertical-align: middle;\n",
       "    }\n",
       "\n",
       "    .dataframe tbody tr th {\n",
       "        vertical-align: top;\n",
       "    }\n",
       "\n",
       "    .dataframe thead th {\n",
       "        text-align: right;\n",
       "    }\n",
       "</style>\n",
       "<table border=\"1\" class=\"dataframe\">\n",
       "  <thead>\n",
       "    <tr style=\"text-align: right;\">\n",
       "      <th></th>\n",
       "      <th>r_ascension</th>\n",
       "      <th>declination</th>\n",
       "      <th>u_band</th>\n",
       "      <th>g_band</th>\n",
       "      <th>r_band</th>\n",
       "      <th>i_band</th>\n",
       "      <th>z_band</th>\n",
       "      <th>class</th>\n",
       "      <th>redshift</th>\n",
       "      <th>plate</th>\n",
       "      <th>mjd</th>\n",
       "    </tr>\n",
       "  </thead>\n",
       "  <tbody>\n",
       "    <tr>\n",
       "      <th>0</th>\n",
       "      <td>183.531326</td>\n",
       "      <td>0.089693</td>\n",
       "      <td>19.47406</td>\n",
       "      <td>17.04240</td>\n",
       "      <td>15.94699</td>\n",
       "      <td>15.50342</td>\n",
       "      <td>15.22531</td>\n",
       "      <td>1</td>\n",
       "      <td>-0.000009</td>\n",
       "      <td>3306</td>\n",
       "      <td>54922</td>\n",
       "    </tr>\n",
       "    <tr>\n",
       "      <th>1</th>\n",
       "      <td>183.598371</td>\n",
       "      <td>0.135285</td>\n",
       "      <td>18.66280</td>\n",
       "      <td>17.21449</td>\n",
       "      <td>16.67637</td>\n",
       "      <td>16.48922</td>\n",
       "      <td>16.39150</td>\n",
       "      <td>1</td>\n",
       "      <td>-0.000055</td>\n",
       "      <td>323</td>\n",
       "      <td>51615</td>\n",
       "    </tr>\n",
       "    <tr>\n",
       "      <th>2</th>\n",
       "      <td>183.680207</td>\n",
       "      <td>0.126185</td>\n",
       "      <td>19.38298</td>\n",
       "      <td>18.19169</td>\n",
       "      <td>17.47428</td>\n",
       "      <td>17.08732</td>\n",
       "      <td>16.80125</td>\n",
       "      <td>2</td>\n",
       "      <td>0.123111</td>\n",
       "      <td>287</td>\n",
       "      <td>52023</td>\n",
       "    </tr>\n",
       "  </tbody>\n",
       "</table>\n",
       "</div>"
      ],
      "text/plain": [
       "   r_ascension  declination    u_band    g_band    r_band    i_band    z_band  \\\n",
       "0   183.531326     0.089693  19.47406  17.04240  15.94699  15.50342  15.22531   \n",
       "1   183.598371     0.135285  18.66280  17.21449  16.67637  16.48922  16.39150   \n",
       "2   183.680207     0.126185  19.38298  18.19169  17.47428  17.08732  16.80125   \n",
       "\n",
       "   class  redshift  plate    mjd  \n",
       "0      1 -0.000009   3306  54922  \n",
       "1      1 -0.000055    323  51615  \n",
       "2      2  0.123111    287  52023  "
      ]
     },
     "execution_count": 41,
     "metadata": {},
     "output_type": "execute_result"
    }
   ],
   "source": [
    "df1.head(3)"
   ]
  },
  {
   "cell_type": "markdown",
   "metadata": {},
   "source": [
    "## Removing Outliers"
   ]
  },
  {
   "cell_type": "code",
   "execution_count": 42,
   "metadata": {},
   "outputs": [
    {
     "data": {
      "text/plain": [
       "array([[0.16745842, 0.58492272, 1.03148637, ..., 0.36973112, 1.03148936,\n",
       "        1.30931064],\n",
       "       [0.16886159, 0.58311429, 0.05243046, ..., 0.36984929, 0.63621258,\n",
       "        0.87919741],\n",
       "       [0.17057433, 0.58347525, 0.92156796, ..., 0.05302706, 0.65633905,\n",
       "        0.60919097],\n",
       "       ...,\n",
       "       [0.92039468, 1.46090664, 0.16753826, ..., 0.37074104, 3.26608697,\n",
       "        2.69309363],\n",
       "       [0.92197294, 1.46432109, 0.31801835, ..., 0.33364691, 0.56688806,\n",
       "        0.70581092],\n",
       "       [0.91804124, 1.46639319, 0.79229193, ..., 0.06510125, 0.56688806,\n",
       "        0.70581092]])"
      ]
     },
     "execution_count": 42,
     "metadata": {},
     "output_type": "execute_result"
    }
   ],
   "source": [
    "from scipy.stats import zscore\n",
    "z=np.abs(zscore(df1))\n",
    "z"
   ]
  },
  {
   "cell_type": "code",
   "execution_count": 43,
   "metadata": {},
   "outputs": [
    {
     "name": "stdout",
     "output_type": "stream",
     "text": [
      "(array([  45,  109,  129, ..., 9992, 9994, 9997], dtype=int64), array([8, 8, 8, ..., 9, 9, 9], dtype=int64))\n"
     ]
    }
   ],
   "source": [
    "threshold=3\n",
    "print(np.where(z>3))"
   ]
  },
  {
   "cell_type": "code",
   "execution_count": 44,
   "metadata": {},
   "outputs": [],
   "source": [
    "df1_new=df1[(z<3).all(axis=1)]"
   ]
  },
  {
   "cell_type": "code",
   "execution_count": 45,
   "metadata": {},
   "outputs": [
    {
     "name": "stdout",
     "output_type": "stream",
     "text": [
      "(10000, 11) \t\t (8713, 11)\n"
     ]
    }
   ],
   "source": [
    "print(df1.shape,'\\t\\t',df1_new.shape)"
   ]
  },
  {
   "cell_type": "markdown",
   "metadata": {},
   "source": [
    "#### All the outliers are removed."
   ]
  },
  {
   "cell_type": "code",
   "execution_count": 46,
   "metadata": {},
   "outputs": [
    {
     "data": {
      "text/plain": [
       "(8713, 11)"
      ]
     },
     "execution_count": 46,
     "metadata": {},
     "output_type": "execute_result"
    }
   ],
   "source": [
    "df1=df1_new\n",
    "df1.shape"
   ]
  },
  {
   "cell_type": "markdown",
   "metadata": {},
   "source": [
    "# Model Training"
   ]
  },
  {
   "cell_type": "code",
   "execution_count": 47,
   "metadata": {},
   "outputs": [
    {
     "data": {
      "text/html": [
       "<div>\n",
       "<style scoped>\n",
       "    .dataframe tbody tr th:only-of-type {\n",
       "        vertical-align: middle;\n",
       "    }\n",
       "\n",
       "    .dataframe tbody tr th {\n",
       "        vertical-align: top;\n",
       "    }\n",
       "\n",
       "    .dataframe thead th {\n",
       "        text-align: right;\n",
       "    }\n",
       "</style>\n",
       "<table border=\"1\" class=\"dataframe\">\n",
       "  <thead>\n",
       "    <tr style=\"text-align: right;\">\n",
       "      <th></th>\n",
       "      <th>r_ascension</th>\n",
       "      <th>declination</th>\n",
       "      <th>u_band</th>\n",
       "      <th>g_band</th>\n",
       "      <th>r_band</th>\n",
       "      <th>i_band</th>\n",
       "      <th>z_band</th>\n",
       "      <th>class</th>\n",
       "      <th>redshift</th>\n",
       "      <th>plate</th>\n",
       "      <th>mjd</th>\n",
       "    </tr>\n",
       "  </thead>\n",
       "  <tbody>\n",
       "    <tr>\n",
       "      <th>0</th>\n",
       "      <td>183.531326</td>\n",
       "      <td>0.089693</td>\n",
       "      <td>19.47406</td>\n",
       "      <td>17.04240</td>\n",
       "      <td>15.94699</td>\n",
       "      <td>15.50342</td>\n",
       "      <td>15.22531</td>\n",
       "      <td>1</td>\n",
       "      <td>-0.000009</td>\n",
       "      <td>3306</td>\n",
       "      <td>54922</td>\n",
       "    </tr>\n",
       "    <tr>\n",
       "      <th>1</th>\n",
       "      <td>183.598371</td>\n",
       "      <td>0.135285</td>\n",
       "      <td>18.66280</td>\n",
       "      <td>17.21449</td>\n",
       "      <td>16.67637</td>\n",
       "      <td>16.48922</td>\n",
       "      <td>16.39150</td>\n",
       "      <td>1</td>\n",
       "      <td>-0.000055</td>\n",
       "      <td>323</td>\n",
       "      <td>51615</td>\n",
       "    </tr>\n",
       "    <tr>\n",
       "      <th>2</th>\n",
       "      <td>183.680207</td>\n",
       "      <td>0.126185</td>\n",
       "      <td>19.38298</td>\n",
       "      <td>18.19169</td>\n",
       "      <td>17.47428</td>\n",
       "      <td>17.08732</td>\n",
       "      <td>16.80125</td>\n",
       "      <td>2</td>\n",
       "      <td>0.123111</td>\n",
       "      <td>287</td>\n",
       "      <td>52023</td>\n",
       "    </tr>\n",
       "    <tr>\n",
       "      <th>3</th>\n",
       "      <td>183.870529</td>\n",
       "      <td>0.049911</td>\n",
       "      <td>17.76536</td>\n",
       "      <td>16.60272</td>\n",
       "      <td>16.16116</td>\n",
       "      <td>15.98233</td>\n",
       "      <td>15.90438</td>\n",
       "      <td>1</td>\n",
       "      <td>-0.000111</td>\n",
       "      <td>3306</td>\n",
       "      <td>54922</td>\n",
       "    </tr>\n",
       "    <tr>\n",
       "      <th>4</th>\n",
       "      <td>183.883288</td>\n",
       "      <td>0.102557</td>\n",
       "      <td>17.55025</td>\n",
       "      <td>16.26342</td>\n",
       "      <td>16.43869</td>\n",
       "      <td>16.55492</td>\n",
       "      <td>16.61326</td>\n",
       "      <td>1</td>\n",
       "      <td>0.000590</td>\n",
       "      <td>3306</td>\n",
       "      <td>54922</td>\n",
       "    </tr>\n",
       "  </tbody>\n",
       "</table>\n",
       "</div>"
      ],
      "text/plain": [
       "   r_ascension  declination    u_band    g_band    r_band    i_band    z_band  \\\n",
       "0   183.531326     0.089693  19.47406  17.04240  15.94699  15.50342  15.22531   \n",
       "1   183.598371     0.135285  18.66280  17.21449  16.67637  16.48922  16.39150   \n",
       "2   183.680207     0.126185  19.38298  18.19169  17.47428  17.08732  16.80125   \n",
       "3   183.870529     0.049911  17.76536  16.60272  16.16116  15.98233  15.90438   \n",
       "4   183.883288     0.102557  17.55025  16.26342  16.43869  16.55492  16.61326   \n",
       "\n",
       "   class  redshift  plate    mjd  \n",
       "0      1 -0.000009   3306  54922  \n",
       "1      1 -0.000055    323  51615  \n",
       "2      2  0.123111    287  52023  \n",
       "3      1 -0.000111   3306  54922  \n",
       "4      1  0.000590   3306  54922  "
      ]
     },
     "execution_count": 47,
     "metadata": {},
     "output_type": "execute_result"
    }
   ],
   "source": [
    "df1.head()"
   ]
  },
  {
   "cell_type": "code",
   "execution_count": 48,
   "metadata": {},
   "outputs": [
    {
     "data": {
      "text/html": [
       "<div>\n",
       "<style scoped>\n",
       "    .dataframe tbody tr th:only-of-type {\n",
       "        vertical-align: middle;\n",
       "    }\n",
       "\n",
       "    .dataframe tbody tr th {\n",
       "        vertical-align: top;\n",
       "    }\n",
       "\n",
       "    .dataframe thead th {\n",
       "        text-align: right;\n",
       "    }\n",
       "</style>\n",
       "<table border=\"1\" class=\"dataframe\">\n",
       "  <thead>\n",
       "    <tr style=\"text-align: right;\">\n",
       "      <th></th>\n",
       "      <th>r_ascension</th>\n",
       "      <th>declination</th>\n",
       "      <th>u_band</th>\n",
       "      <th>g_band</th>\n",
       "      <th>r_band</th>\n",
       "      <th>i_band</th>\n",
       "      <th>z_band</th>\n",
       "      <th>redshift</th>\n",
       "      <th>plate</th>\n",
       "      <th>mjd</th>\n",
       "    </tr>\n",
       "  </thead>\n",
       "  <tbody>\n",
       "    <tr>\n",
       "      <th>0</th>\n",
       "      <td>183.531326</td>\n",
       "      <td>0.089693</td>\n",
       "      <td>19.47406</td>\n",
       "      <td>17.04240</td>\n",
       "      <td>15.94699</td>\n",
       "      <td>15.50342</td>\n",
       "      <td>15.22531</td>\n",
       "      <td>-0.000009</td>\n",
       "      <td>3306</td>\n",
       "      <td>54922</td>\n",
       "    </tr>\n",
       "    <tr>\n",
       "      <th>1</th>\n",
       "      <td>183.598371</td>\n",
       "      <td>0.135285</td>\n",
       "      <td>18.66280</td>\n",
       "      <td>17.21449</td>\n",
       "      <td>16.67637</td>\n",
       "      <td>16.48922</td>\n",
       "      <td>16.39150</td>\n",
       "      <td>-0.000055</td>\n",
       "      <td>323</td>\n",
       "      <td>51615</td>\n",
       "    </tr>\n",
       "    <tr>\n",
       "      <th>2</th>\n",
       "      <td>183.680207</td>\n",
       "      <td>0.126185</td>\n",
       "      <td>19.38298</td>\n",
       "      <td>18.19169</td>\n",
       "      <td>17.47428</td>\n",
       "      <td>17.08732</td>\n",
       "      <td>16.80125</td>\n",
       "      <td>0.123111</td>\n",
       "      <td>287</td>\n",
       "      <td>52023</td>\n",
       "    </tr>\n",
       "    <tr>\n",
       "      <th>3</th>\n",
       "      <td>183.870529</td>\n",
       "      <td>0.049911</td>\n",
       "      <td>17.76536</td>\n",
       "      <td>16.60272</td>\n",
       "      <td>16.16116</td>\n",
       "      <td>15.98233</td>\n",
       "      <td>15.90438</td>\n",
       "      <td>-0.000111</td>\n",
       "      <td>3306</td>\n",
       "      <td>54922</td>\n",
       "    </tr>\n",
       "    <tr>\n",
       "      <th>4</th>\n",
       "      <td>183.883288</td>\n",
       "      <td>0.102557</td>\n",
       "      <td>17.55025</td>\n",
       "      <td>16.26342</td>\n",
       "      <td>16.43869</td>\n",
       "      <td>16.55492</td>\n",
       "      <td>16.61326</td>\n",
       "      <td>0.000590</td>\n",
       "      <td>3306</td>\n",
       "      <td>54922</td>\n",
       "    </tr>\n",
       "  </tbody>\n",
       "</table>\n",
       "</div>"
      ],
      "text/plain": [
       "   r_ascension  declination    u_band    g_band    r_band    i_band    z_band  \\\n",
       "0   183.531326     0.089693  19.47406  17.04240  15.94699  15.50342  15.22531   \n",
       "1   183.598371     0.135285  18.66280  17.21449  16.67637  16.48922  16.39150   \n",
       "2   183.680207     0.126185  19.38298  18.19169  17.47428  17.08732  16.80125   \n",
       "3   183.870529     0.049911  17.76536  16.60272  16.16116  15.98233  15.90438   \n",
       "4   183.883288     0.102557  17.55025  16.26342  16.43869  16.55492  16.61326   \n",
       "\n",
       "   redshift  plate    mjd  \n",
       "0 -0.000009   3306  54922  \n",
       "1 -0.000055    323  51615  \n",
       "2  0.123111    287  52023  \n",
       "3 -0.000111   3306  54922  \n",
       "4  0.000590   3306  54922  "
      ]
     },
     "execution_count": 48,
     "metadata": {},
     "output_type": "execute_result"
    }
   ],
   "source": [
    "#Splitting the data into input and output variable.\n",
    "x=df1.drop(columns=['class'],axis=1)\n",
    "x.head()"
   ]
  },
  {
   "cell_type": "code",
   "execution_count": 49,
   "metadata": {},
   "outputs": [
    {
     "data": {
      "text/plain": [
       "0    1\n",
       "1    1\n",
       "2    2\n",
       "3    1\n",
       "4    1\n",
       "Name: class, dtype: int64"
      ]
     },
     "execution_count": 49,
     "metadata": {},
     "output_type": "execute_result"
    }
   ],
   "source": [
    "y=df1['class']\n",
    "y.head()"
   ]
  },
  {
   "cell_type": "code",
   "execution_count": 50,
   "metadata": {},
   "outputs": [
    {
     "name": "stdout",
     "output_type": "stream",
     "text": [
      "(8713, 10) \t\t (8713,)\n"
     ]
    }
   ],
   "source": [
    "#checking the shape of input and target variable\n",
    "print(x.shape,'\\t\\t',y.shape)"
   ]
  },
  {
   "cell_type": "code",
   "execution_count": 51,
   "metadata": {},
   "outputs": [],
   "source": [
    "#Scaling in input variables\n",
    "\n",
    "from sklearn.preprocessing import StandardScaler\n",
    "ss=StandardScaler()\n",
    "x=ss.fit_transform(x)"
   ]
  },
  {
   "cell_type": "code",
   "execution_count": 52,
   "metadata": {},
   "outputs": [],
   "source": [
    "#Splitting the data into training and testing data\n",
    "\n",
    "from sklearn.model_selection import train_test_split\n",
    "x_train,x_test,y_train,y_test=train_test_split(x,y,test_size=.20,random_state=42,stratify=y)"
   ]
  },
  {
   "cell_type": "code",
   "execution_count": 53,
   "metadata": {},
   "outputs": [
    {
     "name": "stdout",
     "output_type": "stream",
     "text": [
      "(6970, 10) \t\t (1743, 10)\n"
     ]
    }
   ],
   "source": [
    "#Checking the shape\n",
    "\n",
    "print(x_train.shape,'\\t\\t',x_test.shape)"
   ]
  },
  {
   "cell_type": "code",
   "execution_count": 54,
   "metadata": {},
   "outputs": [
    {
     "name": "stdout",
     "output_type": "stream",
     "text": [
      "(6970,) \t (1743,)\n"
     ]
    }
   ],
   "source": [
    "#Checking the shape\n",
    "\n",
    "print(y_train.shape,'\\t',y_test.shape)"
   ]
  },
  {
   "cell_type": "code",
   "execution_count": 55,
   "metadata": {},
   "outputs": [],
   "source": [
    "#Importing all the model Library\n",
    "\n",
    "from sklearn.linear_model import LogisticRegression\n",
    "from sklearn.svm import SVC\n",
    "from sklearn.tree import DecisionTreeClassifier\n",
    "from sklearn.neighbors import KNeighborsClassifier\n",
    "\n",
    "#Importing Boosting models\n",
    "from sklearn.ensemble import RandomForestClassifier\n",
    "from sklearn.ensemble import AdaBoostClassifier\n",
    "from sklearn.ensemble import GradientBoostingClassifier\n",
    "from sklearn.ensemble import BaggingClassifier\n",
    "from sklearn.ensemble import ExtraTreesClassifier\n",
    "\n",
    "#Importing error metrics\n",
    "from sklearn.metrics import accuracy_score,confusion_matrix,classification_report\n",
    "from sklearn.model_selection import GridSearchCV,cross_val_score"
   ]
  },
  {
   "cell_type": "code",
   "execution_count": 56,
   "metadata": {},
   "outputs": [
    {
     "name": "stdout",
     "output_type": "stream",
     "text": [
      "Accuracy score of LogisticRegression(C=1.0, class_weight=None, dual=False, fit_intercept=True,\n",
      "          intercept_scaling=1, max_iter=100, multi_class='ovr', n_jobs=1,\n",
      "          penalty='l2', random_state=None, solver='liblinear', tol=0.0001,\n",
      "          verbose=0, warm_start=False) is:\n",
      "0.9713138267355135\n",
      "[[692  13   0]\n",
      " [ 14 935   6]\n",
      " [  0  17  66]]\n",
      "             precision    recall  f1-score   support\n",
      "\n",
      "          1       0.98      0.98      0.98       705\n",
      "          2       0.97      0.98      0.97       955\n",
      "          3       0.92      0.80      0.85        83\n",
      "\n",
      "avg / total       0.97      0.97      0.97      1743\n",
      "\n",
      "*****************************************************************************************\n",
      "\n",
      "\n",
      "Accuracy score of SVC(C=1.0, cache_size=200, class_weight=None, coef0=0.0,\n",
      "  decision_function_shape='ovr', degree=3, gamma='auto', kernel='rbf',\n",
      "  max_iter=-1, probability=False, random_state=None, shrinking=True,\n",
      "  tol=0.001, verbose=False) is:\n",
      "0.9781985083189902\n",
      "[[699   6   0]\n",
      " [ 14 936   5]\n",
      " [  1  12  70]]\n",
      "             precision    recall  f1-score   support\n",
      "\n",
      "          1       0.98      0.99      0.99       705\n",
      "          2       0.98      0.98      0.98       955\n",
      "          3       0.93      0.84      0.89        83\n",
      "\n",
      "avg / total       0.98      0.98      0.98      1743\n",
      "\n",
      "*****************************************************************************************\n",
      "\n",
      "\n",
      "Accuracy score of DecisionTreeClassifier(class_weight=None, criterion='gini', max_depth=None,\n",
      "            max_features=None, max_leaf_nodes=None,\n",
      "            min_impurity_decrease=0.0, min_impurity_split=None,\n",
      "            min_samples_leaf=1, min_samples_split=2,\n",
      "            min_weight_fraction_leaf=0.0, presort=False, random_state=None,\n",
      "            splitter='best') is:\n",
      "0.9845094664371773\n",
      "[[705   0   0]\n",
      " [  0 939  16]\n",
      " [  0  11  72]]\n",
      "             precision    recall  f1-score   support\n",
      "\n",
      "          1       1.00      1.00      1.00       705\n",
      "          2       0.99      0.98      0.99       955\n",
      "          3       0.82      0.87      0.84        83\n",
      "\n",
      "avg / total       0.98      0.98      0.98      1743\n",
      "\n",
      "*****************************************************************************************\n",
      "\n",
      "\n",
      "Accuracy score of KNeighborsClassifier(algorithm='auto', leaf_size=30, metric='minkowski',\n",
      "           metric_params=None, n_jobs=1, n_neighbors=5, p=2,\n",
      "           weights='uniform') is:\n",
      "0.9529546758462422\n",
      "[[669  36   0]\n",
      " [ 26 924   5]\n",
      " [  1  14  68]]\n",
      "             precision    recall  f1-score   support\n",
      "\n",
      "          1       0.96      0.95      0.96       705\n",
      "          2       0.95      0.97      0.96       955\n",
      "          3       0.93      0.82      0.87        83\n",
      "\n",
      "avg / total       0.95      0.95      0.95      1743\n",
      "\n",
      "*****************************************************************************************\n",
      "\n",
      "\n",
      "Accuracy score of RandomForestClassifier(bootstrap=True, class_weight=None, criterion='gini',\n",
      "            max_depth=None, max_features='auto', max_leaf_nodes=None,\n",
      "            min_impurity_decrease=0.0, min_impurity_split=None,\n",
      "            min_samples_leaf=1, min_samples_split=2,\n",
      "            min_weight_fraction_leaf=0.0, n_estimators=10, n_jobs=1,\n",
      "            oob_score=False, random_state=None, verbose=0,\n",
      "            warm_start=False) is:\n",
      "0.9890992541594952\n",
      "[[704   1   0]\n",
      " [  2 949   4]\n",
      " [  0  12  71]]\n",
      "             precision    recall  f1-score   support\n",
      "\n",
      "          1       1.00      1.00      1.00       705\n",
      "          2       0.99      0.99      0.99       955\n",
      "          3       0.95      0.86      0.90        83\n",
      "\n",
      "avg / total       0.99      0.99      0.99      1743\n",
      "\n",
      "*****************************************************************************************\n",
      "\n",
      "\n",
      "Accuracy score of AdaBoostClassifier(algorithm='SAMME.R', base_estimator=None,\n",
      "          learning_rate=1.0, n_estimators=50, random_state=None) is:\n",
      "0.9311531841652324\n",
      "[[659  46   0]\n",
      " [  1 953   1]\n",
      " [  0  72  11]]\n",
      "             precision    recall  f1-score   support\n",
      "\n",
      "          1       1.00      0.93      0.97       705\n",
      "          2       0.89      1.00      0.94       955\n",
      "          3       0.92      0.13      0.23        83\n",
      "\n",
      "avg / total       0.94      0.93      0.92      1743\n",
      "\n",
      "*****************************************************************************************\n",
      "\n",
      "\n",
      "Accuracy score of GradientBoostingClassifier(criterion='friedman_mse', init=None,\n",
      "              learning_rate=0.1, loss='deviance', max_depth=3,\n",
      "              max_features=None, max_leaf_nodes=None,\n",
      "              min_impurity_decrease=0.0, min_impurity_split=None,\n",
      "              min_samples_leaf=1, min_samples_split=2,\n",
      "              min_weight_fraction_leaf=0.0, n_estimators=100,\n",
      "              presort='auto', random_state=None, subsample=1.0, verbose=0,\n",
      "              warm_start=False) is:\n",
      "0.9908204245553643\n",
      "[[705   0   0]\n",
      " [  0 949   6]\n",
      " [  0  10  73]]\n",
      "             precision    recall  f1-score   support\n",
      "\n",
      "          1       1.00      1.00      1.00       705\n",
      "          2       0.99      0.99      0.99       955\n",
      "          3       0.92      0.88      0.90        83\n",
      "\n",
      "avg / total       0.99      0.99      0.99      1743\n",
      "\n",
      "*****************************************************************************************\n",
      "\n",
      "\n",
      "Accuracy score of BaggingClassifier(base_estimator=None, bootstrap=True,\n",
      "         bootstrap_features=False, max_features=1.0, max_samples=1.0,\n",
      "         n_estimators=10, n_jobs=1, oob_score=False, random_state=None,\n",
      "         verbose=0, warm_start=False) is:\n",
      "0.9873780837636259\n",
      "[[704   1   0]\n",
      " [  1 946   8]\n",
      " [  0  12  71]]\n",
      "             precision    recall  f1-score   support\n",
      "\n",
      "          1       1.00      1.00      1.00       705\n",
      "          2       0.99      0.99      0.99       955\n",
      "          3       0.90      0.86      0.88        83\n",
      "\n",
      "avg / total       0.99      0.99      0.99      1743\n",
      "\n",
      "*****************************************************************************************\n",
      "\n",
      "\n",
      "Accuracy score of ExtraTreesClassifier(bootstrap=False, class_weight=None, criterion='gini',\n",
      "           max_depth=None, max_features='auto', max_leaf_nodes=None,\n",
      "           min_impurity_decrease=0.0, min_impurity_split=None,\n",
      "           min_samples_leaf=1, min_samples_split=2,\n",
      "           min_weight_fraction_leaf=0.0, n_estimators=10, n_jobs=1,\n",
      "           oob_score=False, random_state=None, verbose=0, warm_start=False) is:\n",
      "0.9827882960413081\n",
      "[[701   4   0]\n",
      " [  7 943   5]\n",
      " [  0  14  69]]\n",
      "             precision    recall  f1-score   support\n",
      "\n",
      "          1       0.99      0.99      0.99       705\n",
      "          2       0.98      0.99      0.98       955\n",
      "          3       0.93      0.83      0.88        83\n",
      "\n",
      "avg / total       0.98      0.98      0.98      1743\n",
      "\n",
      "*****************************************************************************************\n",
      "\n",
      "\n"
     ]
    }
   ],
   "source": [
    "# All Algorithm by using for loop\n",
    "\n",
    "model=[LogisticRegression(),SVC(),DecisionTreeClassifier(),KNeighborsClassifier(),\n",
    "       RandomForestClassifier(),AdaBoostClassifier(),GradientBoostingClassifier(),BaggingClassifier(),ExtraTreesClassifier()]\n",
    "\n",
    "\n",
    "for m in model:\n",
    "    m.fit(x_train,y_train)\n",
    "    m.score(x_train,y_train)\n",
    "    predm=m.predict(x_test)\n",
    "    print('Accuracy score of',m,'is:')\n",
    "    print(accuracy_score(y_test,predm))\n",
    "    print(confusion_matrix(y_test,predm))\n",
    "    print(classification_report(y_test,predm))\n",
    "    print('*****************************************************************************************')\n",
    "    print('\\n')"
   ]
  },
  {
   "cell_type": "code",
   "execution_count": 57,
   "metadata": {},
   "outputs": [
    {
     "name": "stdout",
     "output_type": "stream",
     "text": [
      "Model: LogisticRegression(C=1.0, class_weight=None, dual=False, fit_intercept=True,\n",
      "          intercept_scaling=1, max_iter=100, multi_class='ovr', n_jobs=1,\n",
      "          penalty='l2', random_state=None, solver='liblinear', tol=0.0001,\n",
      "          verbose=0, warm_start=False)\n",
      "Score: [0.98109966 0.97594502 0.96563574 0.97766323 0.97079038 0.95524957\n",
      " 0.95524957 0.96213425 0.97586207 0.96724138 0.94827586 0.96551724\n",
      " 0.98275862 0.97241379 0.97413793]\n",
      "Mean Score: 0.9686649538583972\n",
      "Standard deviation: 0.009753514734875663\n",
      "************************************************************************************************\n",
      "\n",
      "\n",
      "Model: SVC(C=1.0, cache_size=200, class_weight=None, coef0=0.0,\n",
      "  decision_function_shape='ovr', degree=3, gamma='auto', kernel='rbf',\n",
      "  max_iter=-1, probability=False, random_state=None, shrinking=True,\n",
      "  tol=0.001, verbose=False)\n",
      "Score: [0.98109966 0.9742268  0.97079038 0.9862543  0.97766323 0.96557659\n",
      " 0.97762478 0.97590361 0.98103448 0.97931034 0.96034483 0.96896552\n",
      " 0.98275862 0.97413793 0.97931034]\n",
      "Mean Score: 0.9756667616413889\n",
      "Standard deviation: 0.006657407558467602\n",
      "************************************************************************************************\n",
      "\n",
      "\n",
      "Model: DecisionTreeClassifier(class_weight=None, criterion='gini', max_depth=None,\n",
      "            max_features=None, max_leaf_nodes=None,\n",
      "            min_impurity_decrease=0.0, min_impurity_split=None,\n",
      "            min_samples_leaf=1, min_samples_split=2,\n",
      "            min_weight_fraction_leaf=0.0, presort=False, random_state=None,\n",
      "            splitter='best')\n",
      "Score: [0.98453608 0.9862543  0.98797251 0.99312715 0.9862543  0.97246127\n",
      " 0.97762478 0.98795181 0.98965517 0.96896552 0.96551724 0.97413793\n",
      " 0.99137931 0.98103448 0.97931034]\n",
      "Mean Score: 0.9817454797097077\n",
      "Standard deviation: 0.008184648053911777\n",
      "************************************************************************************************\n",
      "\n",
      "\n",
      "Model: KNeighborsClassifier(algorithm='auto', leaf_size=30, metric='minkowski',\n",
      "           metric_params=None, n_jobs=1, n_neighbors=5, p=2,\n",
      "           weights='uniform')\n",
      "Score: [0.96219931 0.94158076 0.94845361 0.96391753 0.95704467 0.92771084\n",
      " 0.92771084 0.9535284  0.95       0.94310345 0.90172414 0.94827586\n",
      " 0.96724138 0.93793103 0.93793103]\n",
      "Mean Score: 0.944556857259927\n",
      "Standard deviation: 0.01632329152801672\n",
      "************************************************************************************************\n",
      "\n",
      "\n",
      "Model: RandomForestClassifier(bootstrap=True, class_weight=None, criterion='gini',\n",
      "            max_depth=None, max_features='auto', max_leaf_nodes=None,\n",
      "            min_impurity_decrease=0.0, min_impurity_split=None,\n",
      "            min_samples_leaf=1, min_samples_split=2,\n",
      "            min_weight_fraction_leaf=0.0, n_estimators=10, n_jobs=1,\n",
      "            oob_score=False, random_state=None, verbose=0,\n",
      "            warm_start=False)\n",
      "Score: [0.98969072 0.9862543  0.98797251 0.99312715 0.99140893 0.98623064\n",
      " 0.98450947 0.99311532 0.99137931 0.98103448 0.98103448 0.98103448\n",
      " 0.99482759 0.9862069  0.98275862]\n",
      "Mean Score: 0.9873723261335422\n",
      "Standard deviation: 0.0045728534902132354\n",
      "************************************************************************************************\n",
      "\n",
      "\n",
      "Model: AdaBoostClassifier(algorithm='SAMME.R', base_estimator=None,\n",
      "          learning_rate=1.0, n_estimators=50, random_state=None)\n",
      "Score: [0.92955326 0.48969072 0.93298969 0.9467354  0.93814433 0.92082616\n",
      " 0.87951807 0.94836489 0.92068966 0.93103448 0.84827586 0.96551724\n",
      " 0.95       0.92241379 0.93275862]\n",
      "Mean Score: 0.8971008119624911\n",
      "Standard deviation: 0.11238491274378354\n",
      "************************************************************************************************\n",
      "\n",
      "\n",
      "Model: GradientBoostingClassifier(criterion='friedman_mse', init=None,\n",
      "              learning_rate=0.1, loss='deviance', max_depth=3,\n",
      "              max_features=None, max_leaf_nodes=None,\n",
      "              min_impurity_decrease=0.0, min_impurity_split=None,\n",
      "              min_samples_leaf=1, min_samples_split=2,\n",
      "              min_weight_fraction_leaf=0.0, n_estimators=100,\n",
      "              presort='auto', random_state=None, subsample=1.0, verbose=0,\n",
      "              warm_start=False)\n",
      "Score: [0.99140893 0.98797251 0.99484536 0.98797251 0.99656357 0.98106713\n",
      " 0.99311532 0.99311532 0.98793103 0.98448276 0.98448276 0.9862069\n",
      " 0.99655172 0.9862069  0.98965517]\n",
      "Mean Score: 0.9894385260303822\n",
      "Standard deviation: 0.004533006478980255\n",
      "************************************************************************************************\n",
      "\n",
      "\n",
      "Model: BaggingClassifier(base_estimator=None, bootstrap=True,\n",
      "         bootstrap_features=False, max_features=1.0, max_samples=1.0,\n",
      "         n_estimators=10, n_jobs=1, oob_score=False, random_state=None,\n",
      "         verbose=0, warm_start=False)\n",
      "Score: [0.99312715 0.98797251 0.98969072 0.99312715 0.99656357 0.9827883\n",
      " 0.99655766 0.99311532 0.98965517 0.98793103 0.98103448 0.98965517\n",
      " 0.99827586 0.9862069  0.98965517]\n",
      "Mean Score: 0.9903570777617265\n",
      "Standard deviation: 0.004743729579114597\n",
      "************************************************************************************************\n",
      "\n",
      "\n",
      "Model: ExtraTreesClassifier(bootstrap=False, class_weight=None, criterion='gini',\n",
      "           max_depth=None, max_features='auto', max_leaf_nodes=None,\n",
      "           min_impurity_decrease=0.0, min_impurity_split=None,\n",
      "           min_samples_leaf=1, min_samples_split=2,\n",
      "           min_weight_fraction_leaf=0.0, n_estimators=10, n_jobs=1,\n",
      "           oob_score=False, random_state=None, verbose=0, warm_start=False)\n",
      "Score: [0.99140893 0.96735395 0.98453608 0.98281787 0.97938144 0.98623064\n",
      " 0.9827883  0.98450947 0.98965517 0.9862069  0.95862069 0.97931034\n",
      " 0.99310345 0.98275862 0.97931034]\n",
      "Mean Score: 0.9818661465559902\n",
      "Standard deviation: 0.008574236467873175\n",
      "************************************************************************************************\n",
      "\n",
      "\n"
     ]
    }
   ],
   "source": [
    "#Cross Validate the models\n",
    "\n",
    "models=[LogisticRegression(),SVC(),DecisionTreeClassifier(),KNeighborsClassifier(),\n",
    "       RandomForestClassifier(),AdaBoostClassifier(),GradientBoostingClassifier(),BaggingClassifier(),ExtraTreesClassifier()]\n",
    "\n",
    "for m in models:\n",
    "    score=cross_val_score(m,x,y,cv=15,scoring='accuracy')\n",
    "    print(\"Model:\",m)\n",
    "    print(\"Score:\",score)\n",
    "    print('Mean Score:',score.mean())\n",
    "    print(\"Standard deviation:\",score.std())\n",
    "    print('************************************************************************************************')\n",
    "    print('\\n')"
   ]
  },
  {
   "cell_type": "markdown",
   "metadata": {},
   "source": [
    "### Among all models GradientBoosting model is giving best result so we finalize Gradient Boosting as our final model."
   ]
  },
  {
   "cell_type": "code",
   "execution_count": 58,
   "metadata": {},
   "outputs": [
    {
     "name": "stdout",
     "output_type": "stream",
     "text": [
      "0.9902467010900746\n",
      "[[705   0   0]\n",
      " [  0 949   6]\n",
      " [  0  11  72]]\n",
      "             precision    recall  f1-score   support\n",
      "\n",
      "          1       1.00      1.00      1.00       705\n",
      "          2       0.99      0.99      0.99       955\n",
      "          3       0.92      0.87      0.89        83\n",
      "\n",
      "avg / total       0.99      0.99      0.99      1743\n",
      "\n"
     ]
    }
   ],
   "source": [
    "#GradientBoostClassifier with best result\n",
    "\n",
    "gbc=GradientBoostingClassifier(learning_rate=0.1,random_state=59,n_estimators=200)\n",
    "gbc.fit(x_train,y_train)\n",
    "gbc.score(x_train,y_train)\n",
    "predgbc=gbc.predict(x_test)\n",
    "print(accuracy_score(y_test,predgbc))\n",
    "print(confusion_matrix(y_test,predgbc))\n",
    "print(classification_report(y_test,predgbc))"
   ]
  },
  {
   "cell_type": "code",
   "execution_count": 59,
   "metadata": {},
   "outputs": [
    {
     "name": "stdout",
     "output_type": "stream",
     "text": [
      "[0.99312715 0.9862543  0.99484536 0.98797251 0.99656357 0.98106713\n",
      " 0.99139415 0.99483649 0.98965517 0.98275862 0.98103448 0.9862069\n",
      " 0.99655172 0.9862069  0.98793103]\n",
      "Mean: 0.9890936984441754\n",
      "Std: 0.005139434691991949\n"
     ]
    }
   ],
   "source": [
    "#Cross Validate GradientBoosting\n",
    "\n",
    "score=cross_val_score(gbc,x,y,cv=15,scoring='accuracy')\n",
    "\n",
    "print(score)\n",
    "print('Mean:',score.mean())\n",
    "print('Std:',score.std())"
   ]
  },
  {
   "cell_type": "code",
   "execution_count": 60,
   "metadata": {},
   "outputs": [
    {
     "data": {
      "image/png": "[encoded data removed]",
      "text/plain": [
       "<Figure size 432x288 with 1 Axes>"
      ]
     },
     "metadata": {},
     "output_type": "display_data"
    }
   ],
   "source": [
    "#Plotting Confusion Matrix for Gradient Boosting Classifier.\n",
    "cm=confusion_matrix(y_test,predgbc)\n",
    "sns.heatmap(cm,annot=True,cbar=False,cmap='Blues')\n",
    "\n",
    "plt.title(\"Confusion Matrix of Gradient Boosting Classifier\")\n",
    "plt.show()"
   ]
  },
  {
   "cell_type": "code",
   "execution_count": 61,
   "metadata": {},
   "outputs": [
    {
     "data": {
      "text/plain": [
       "['Sky_Survey_gbc.pkl']"
      ]
     },
     "execution_count": 61,
     "metadata": {},
     "output_type": "execute_result"
    }
   ],
   "source": [
    "#Saving this model\n",
    "from sklearn.externals import joblib\n",
    "\n",
    "#Save the model as a pickle in a file\n",
    "joblib.dump(gbc,'Sky_Survey_gbc.pkl')\n"
   ]
  },
  {
   "cell_type": "code",
   "execution_count": null,
   "metadata": {},
   "outputs": [],
   "source": []
  }
 ],
 "metadata": {
  "kernelspec": {
   "display_name": "Python 3",
   "language": "python",
   "name": "python3"
  },
  "language_info": {
   "codemirror_mode": {
    "name": "ipython",
    "version": 3
   },
   "file_extension": ".py",
   "mimetype": "text/x-python",
   "name": "python",
   "nbconvert_exporter": "python",
   "pygments_lexer": "ipython3",
   "version": "3.6.5"
  }
 },
 "nbformat": 4,
 "nbformat_minor": 2
}
